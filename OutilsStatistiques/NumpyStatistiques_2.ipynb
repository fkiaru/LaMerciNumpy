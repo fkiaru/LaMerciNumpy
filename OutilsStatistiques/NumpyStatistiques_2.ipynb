{
 "cells": [
  {
   "cell_type": "markdown",
   "metadata": {},
   "source": [
    "<center><FONT size=\"6pt\" color=firebrick> Probabilités et statistiques </FONT></center>\n",
    "\n",
    "![extraitProgrammeStats](img/extraitProgrammeStats.png)\n"
   ]
  },
  {
   "cell_type": "markdown",
   "metadata": {},
   "source": [
    "<center><FONT size=\"6pt\" color=firebrick> Mémento </FONT></center>\n",
    "\n",
    "| Syntaxe | Rôle |\n",
    "|:---------------------:|:------------------|\n",
    "|| **simulation de variables aléatoires**|\n",
    "| import **numpy.random** as rd | importe le sous-module *random* de Numpy qui contient les fonctions statistiques | \n",
    "| rd.random() | génére un nombre aléatoire sur $[0;1]$  | \n",
    "| rd.uniform($a$,$b$,$N$) | génére une collection de $N$ nombres aléatoires sur $[a;b]$ avec une loi uniforme | \n",
    "| rd.normal($moy$,$sigma$,$N$) | génére une collection de $N$ nombres aléatoires suivant une loi normale (=gaussienne) de moyenne $moy$ et d'écart-type $sigma$| \n",
    "| rd.randint($a$,$b$,$N$) | génère une collection de $N$ **nombres entiers** entre $a$ (inclus) et $b$ (exclu) |\n",
    "|| **tracé d'histogrammes**|\n",
    "|import **matplotlib.pyplot** as plt | l'affichage d'histogramme est un outil de *pyplot*|\n",
    "| plt.hist($L$, bins = 'rice') | affiche l'histogramme de la collection de valeurs $L$ (tableau numpy ou liste Python de valeurs) <br> avec optimisation de la taille des bacs (option bins = 'rice')|\n",
    "|| **analyse statistique de données**|\n",
    "|import **numpy** as np | les outils statistiques sont inclus dans le module Numpy |\n",
    "|np.mean(L) | calcule la **moyenne** de la collection de valeurs $L$ (tableau numpy ou liste Python de valeurs) |\n",
    "|np.std(L,ddof = 1) | calcule un estimateur non biaisé de l'**écart-type** pour la collection de valeurs $L$ (tableau numpy ou liste Python de valeurs) <br> le paramètre *ddof = 1* fait diviser par $N-1$ au lieu de diviser par $N$. |\n",
    "|| **régression affine**|\n",
    "| $a$,$b$ = np.polyfit(xi,yi,deg = 1) | calcule les paramètres $a$,$b$ de la regression affine des données yi = f(xi), c'est-à-dire la 'meilleure' droite d'équation $Y=aX+b$ <br> permettant de décrire les couples de points expérimentaux $(x_i,y_i)$. Ne pas oublier le paramètre $deg = 1$.|\n"
   ]
  },
  {
   "cell_type": "markdown",
   "metadata": {},
   "source": [
    "# Importation des modules\n",
    "\n",
    "L'ensemble des outils statistiques utilisés en CPGE sont contenus dans le module *random* de la bibliothèque Numpy.\n",
    "\n",
    "On peut donc y accéder à l'aide des commandes d'importation suivantes."
   ]
  },
  {
   "cell_type": "code",
   "execution_count": 302,
   "metadata": {},
   "outputs": [
    {
     "data": {
      "text/plain": [
       "0.24557271625330468"
      ]
     },
     "execution_count": 302,
     "metadata": {},
     "output_type": "execute_result"
    }
   ],
   "source": [
    "# 1ère solution\n",
    "import numpy as np # crée un alias sur le module Numpy\n",
    "np.random.random() # renvoie un flottant aléatoire uniformément distribué sur l'intervalle [0;1]"
   ]
  },
  {
   "cell_type": "code",
   "execution_count": 3,
   "metadata": {},
   "outputs": [
    {
     "data": {
      "text/plain": [
       "0.47090576497536385"
      ]
     },
     "execution_count": 3,
     "metadata": {},
     "output_type": "execute_result"
    }
   ],
   "source": [
    "# 2ème solution\n",
    "import numpy.random as rd # crée un alias sur le sous-module random de Numpy\n",
    "rd.random() # c'est la fonction random() du sous-module random du module Numpy"
   ]
  },
  {
   "cell_type": "markdown",
   "metadata": {},
   "source": [
    "## La fonction random() du module numpy.random\n",
    "\n",
    "L'aide sur cette fonction précise que la *borne supérieure est exclue*. Ceci est un détail car en pratique tout se passe comme si le tirage était uniforme dans l'intervalle $[0;1]$ fermé."
   ]
  },
  {
   "cell_type": "code",
   "execution_count": 4,
   "metadata": {},
   "outputs": [
    {
     "name": "stdout",
     "output_type": "stream",
     "text": [
      "Help on built-in function random:\n",
      "\n",
      "random(...) method of numpy.random.mtrand.RandomState instance\n",
      "    random(size=None)\n",
      "    \n",
      "    Return random floats in the half-open interval [0.0, 1.0). Alias for\n",
      "    `random_sample` to ease forward-porting to the new random API.\n",
      "\n"
     ]
    }
   ],
   "source": [
    "help(rd.random) # appel l'aide sur la fonction random() du module numpy.random"
   ]
  },
  {
   "cell_type": "markdown",
   "metadata": {},
   "source": [
    "## Comment créer une liste de valeurs aléatoires uniformément distribuées dans l'intervalle $[0;10]$ ?\n",
    "\n",
    "Méthode 1 : on remplit une liste en ajoutant à chaque fois un nombre tiré aléatoirement dans l'intervalle $[0;1]$ que l'on multiplie par 10."
   ]
  },
  {
   "cell_type": "code",
   "execution_count": 305,
   "metadata": {},
   "outputs": [
    {
     "name": "stdout",
     "output_type": "stream",
     "text": [
      "[8.683949074719111, 9.138724458445656, 5.242008440654563, 3.6744636150753585, 2.121679957079392, 7.566105913077145, 1.3247160596582541, 8.004883714535154, 4.666424629287013, 0.8029572370961502, 0.7403223126154956, 5.364132910317223]\n"
     ]
    }
   ],
   "source": [
    "# Création de N = 12 valeurs aléatoires tirées uniformément dans l'intervalle [0;10]\n",
    "N = 12\n",
    "L1 = []\n",
    "for k in range(N): # boucle for\n",
    "    L1.append( rd.random()*10) \n",
    "print(L1)"
   ]
  },
  {
   "cell_type": "markdown",
   "metadata": {},
   "source": [
    "### Exercice N2 n°1 : tirage uniforme dans un intervalle [a;b] quelconque\n",
    "\n",
    "Modifier le code ci-dessous pour que les 12 valeurs soient tirées aléatoirement dans l'intervalle $[a ; b]$ de manière uniforme. (On prendra $a=50$ et $b=80$)."
   ]
  },
  {
   "cell_type": "code",
   "execution_count": 52,
   "metadata": {},
   "outputs": [
    {
     "name": "stdout",
     "output_type": "stream",
     "text": [
      "[68.65061945185742, 77.63777629401868, 57.097999885220936, 75.92210799601318, 69.51897129135841, 74.32085761568806, 71.60703430758082, 65.57537680948005, 59.286239721435805, 73.38291773188237, 65.57284557080546, 77.07117118250339]\n"
     ]
    }
   ],
   "source": [
    "# Création de N = 12 valeurs aléatoires tirées uniformément dans l'intervalle [a;b]\n",
    "N = 12\n",
    "a, b = 50, 80 # bornes de l'intervalle\n",
    "L1 = []\n",
    "for k in range(N): # boucle for\n",
    "    x = rd.random()\n",
    "    L1.append(x*(b-a)+a) # LIGNE A MODIFIER\n",
    "print(L1)"
   ]
  },
  {
   "cell_type": "code",
   "execution_count": 53,
   "metadata": {},
   "outputs": [
    {
     "name": "stdout",
     "output_type": "stream",
     "text": [
      "[57.10303294302985, 58.836900467218754, 68.38703075662792, 79.54968188307018, 50.659473266522156, 78.17358156810066, 66.64912328107773, 77.65249991587581, 53.641249717664884, 77.65930291034898, 67.47925823637779, 58.99305971647992]\n"
     ]
    }
   ],
   "source": [
    "# Création de N = 12 valeurs aléatoires tirées uniformément dans l'intervalle [a;b]\n",
    "N = 12\n",
    "a, b = 50, 80 # bornes de l'intervalle\n",
    "L1 = []\n",
    "for k in range(N): # boucle for\n",
    "    L1.append(rd.random()*(b-a) + a)\n",
    "print(L1)"
   ]
  },
  {
   "cell_type": "markdown",
   "metadata": {},
   "source": [
    "Méthode 2 : on utilise la fonction ``rand()`` qui admet pour argument le nombre de valeurs à tirer."
   ]
  },
  {
   "cell_type": "code",
   "execution_count": 54,
   "metadata": {},
   "outputs": [
    {
     "data": {
      "text/plain": [
       "[57.10303294302985,\n",
       " 58.836900467218754,\n",
       " 68.38703075662792,\n",
       " 79.54968188307018,\n",
       " 50.659473266522156,\n",
       " 78.17358156810066,\n",
       " 66.64912328107773,\n",
       " 77.65249991587581,\n",
       " 53.641249717664884,\n",
       " 77.65930291034898,\n",
       " 67.47925823637779,\n",
       " 58.99305971647992]"
      ]
     },
     "execution_count": 54,
     "metadata": {},
     "output_type": "execute_result"
    }
   ],
   "source": [
    "L1"
   ]
  },
  {
   "cell_type": "code",
   "execution_count": 64,
   "metadata": {},
   "outputs": [
    {
     "name": "stdout",
     "output_type": "stream",
     "text": [
      "[513.9272964872687, 529.5321042049688, 615.4832768096513, 715.9471369476316, 455.9352593986994, 703.562234112906, 599.8421095296997, 698.8724992428822, 482.7712474589839, 698.933726193141, 607.3133241274, 530.9375374483193]\n",
      "<class 'list'>\n"
     ]
    }
   ],
   "source": [
    "type(L1)\n",
    "# pour multiplier chaque valeur de L1 par trois\n",
    "for k in range(len(L1)):\n",
    "    L1[k] = L1[k]* 3 # opération terme à terme\n",
    "print(L1)\n",
    "print(type(L1))"
   ]
  },
  {
   "cell_type": "code",
   "execution_count": 68,
   "metadata": {},
   "outputs": [],
   "source": [
    "L2 = np.array(L1) #convertir la liste L1 (python ) en tab"
   ]
  },
  {
   "cell_type": "code",
   "execution_count": 69,
   "metadata": {},
   "outputs": [
    {
     "data": {
      "text/plain": [
       "numpy.ndarray"
      ]
     },
     "execution_count": 69,
     "metadata": {},
     "output_type": "execute_result"
    }
   ],
   "source": [
    "type(L2)"
   ]
  },
  {
   "cell_type": "code",
   "execution_count": 70,
   "metadata": {},
   "outputs": [
    {
     "data": {
      "text/plain": [
       "array([1541.78188946, 1588.59631261, 1846.44983043, 2147.84141084,\n",
       "       1367.8057782 , 2110.68670234, 1799.52632859, 2096.61749773,\n",
       "       1448.31374238, 2096.80117858, 1821.93997238, 1592.81261234])"
      ]
     },
     "execution_count": 70,
     "metadata": {},
     "output_type": "execute_result"
    }
   ],
   "source": [
    "L2*3"
   ]
  },
  {
   "cell_type": "code",
   "execution_count": 71,
   "metadata": {},
   "outputs": [
    {
     "data": {
      "text/plain": [
       "numpy.ndarray"
      ]
     },
     "execution_count": 71,
     "metadata": {},
     "output_type": "execute_result"
    }
   ],
   "source": [
    "L2 = rd.rand(12) # création d'un vecteur Numpy de 12 valeurs tirées uniformément dans l'intervalle [0;1]\n",
    "type(L2)"
   ]
  },
  {
   "cell_type": "code",
   "execution_count": 8,
   "metadata": {},
   "outputs": [
    {
     "data": {
      "text/plain": [
       "array([75.43032832, 74.13587357, 51.82013276, 58.892263  , 74.23228244,\n",
       "       63.42229437, 62.26494983, 69.49356988, 74.48520785, 51.85964324,\n",
       "       69.11224243, 66.82221842])"
      ]
     },
     "execution_count": 8,
     "metadata": {},
     "output_type": "execute_result"
    }
   ],
   "source": [
    "rd.rand(12)*(b-a) + a # 12 valeurs aléatoires tirées entre les bornes a et b"
   ]
  },
  {
   "cell_type": "markdown",
   "metadata": {},
   "source": [
    "Comparaison des deux méthodes :\n",
    "\n",
    "- La première méthode renvoie une liste Python (cet objet **n'accepte pas** les additions et/ou les multiplications par des scalaires).\n",
    "\n",
    "- La seconde méthode renvoie un ``ndarray``, c'est un \"tableau numpy\" qui se manipule comme des vecteurs (ou des matrices) mathématiques: les additions et multiplications par des scalaires sont possibles.\n",
    "\n",
    "Remarque, on peut toujours convertir une liste Python L de valeurs numériques en objet ``ndarray`` grâce à la commande\n",
    "``` \n",
    "np.array(L) # convertit la liste python L en objet de type ndarray\n",
    "```"
   ]
  },
  {
   "cell_type": "code",
   "execution_count": 14,
   "metadata": {},
   "outputs": [
    {
     "data": {
      "text/plain": [
       "[57.30604444008662,\n",
       " 78.26877828936077,\n",
       " 54.20498173955139,\n",
       " 78.57348653997974,\n",
       " 65.51378005651071,\n",
       " 56.640436671002455,\n",
       " 64.98163300981199,\n",
       " 54.8001925296127,\n",
       " 77.38679586765781,\n",
       " 76.62044570238578,\n",
       " 61.22541521865894,\n",
       " 50.68567838803415]"
      ]
     },
     "execution_count": 14,
     "metadata": {},
     "output_type": "execute_result"
    }
   ],
   "source": [
    "L1"
   ]
  },
  {
   "cell_type": "code",
   "execution_count": 15,
   "metadata": {},
   "outputs": [
    {
     "name": "stdout",
     "output_type": "stream",
     "text": [
      "[286.5302222004331, 391.3438914468038, 271.024908697757, 392.8674326998987, 327.56890028255356, 283.20218335501227, 324.9081650490599, 274.0009626480635, 386.9339793382891, 383.1022285119289, 306.1270760932947, 253.42839194017074]\n"
     ]
    }
   ],
   "source": [
    "for k in range(len(L1)): #tous les indices de zéro à n-1 avec n = len(L1)\n",
    "    L1[k] = L1[k] * 5.\n",
    "print(L1)"
   ]
  },
  {
   "cell_type": "code",
   "execution_count": 310,
   "metadata": {},
   "outputs": [
    {
     "name": "stdout",
     "output_type": "stream",
     "text": [
      "[54.27127639766884, 73.10637705840173, 75.0380606251481, 52.320559430809325, 60.76528493316164, 78.53097198537375, 59.809432545750326, 78.18973704066465, 75.76625752197187, 70.83603659286864, 67.71096431289568, 56.05162673424219]\n",
      "[54.2712764  73.10637706 75.03806063 52.32055943 60.76528493 78.53097199\n",
      " 59.80943255 78.18973704 75.76625752 70.83603659 67.71096431 56.05162673]\n"
     ]
    }
   ],
   "source": [
    "print(L1)       # affichage de la liste Python de valeurs numériques\n",
    "L2 = np.array(L1) # conversion de la liste Python L1 en un \"tableau Numpy\"\n",
    "print(L2)       # affichage de l'objet de type \"tableau Numpy\""
   ]
  },
  {
   "cell_type": "markdown",
   "metadata": {},
   "source": [
    "# Réaliser un tirage aléatoire de nombres entiers\n",
    "\n",
    "Voici comment obtenir un nombre aléatoire tiré uniformément entre a=5 (inclus) et b = 10 (exclu)."
   ]
  },
  {
   "cell_type": "code",
   "execution_count": 78,
   "metadata": {},
   "outputs": [
    {
     "name": "stdout",
     "output_type": "stream",
     "text": [
      "nb tiré aléatoirement x =  7\n"
     ]
    }
   ],
   "source": [
    "a, b = 5, 10\n",
    "x = rd.randint(a,b)\n",
    "print('nb tiré aléatoirement x = ',x)"
   ]
  },
  {
   "cell_type": "markdown",
   "metadata": {},
   "source": [
    "ATTENTION : pour les entiers, il importe de **toujours vérifier dans la spécification de la fonction** si les bornes sont INCLUSES ou EXCLUES. \n",
    "\n",
    "Selon les modules utilisés, les bornes supérieures sont parfois incluses ou exclues."
   ]
  },
  {
   "cell_type": "code",
   "execution_count": 79,
   "metadata": {},
   "outputs": [
    {
     "name": "stdout",
     "output_type": "stream",
     "text": [
      "[7, 8, 9, 8, 7, 9, 7, 9, 9, 5, 5, 6, 6, 7, 7, 7, 7, 7, 9, 8, 8, 8, 6, 7, 9, 8, 5, 7, 6, 9, 7, 9, 8, 9, 8, 9, 9, 7, 6, 6, 9, 7, 8, 6, 6, 5, 6, 9, 6, 6]\n"
     ]
    }
   ],
   "source": [
    "L3 = []\n",
    "for k in range(50): # 50 valeurs\n",
    "    L3.append(rd.randint(5,10)) # ajoute un entier aléatoire à la liste L3\n",
    "print(L3) # on peut vérifier qu'AUCUNE des 50 valeurs tirées n'est égale à 10"
   ]
  },
  {
   "cell_type": "code",
   "execution_count": 86,
   "metadata": {},
   "outputs": [
    {
     "name": "stdout",
     "output_type": "stream",
     "text": [
      "[3, 5, 7, 9, 11]\n"
     ]
    }
   ],
   "source": [
    "# liste en compréhension??\n",
    "L3 = [2*k +1 for k in range(1,6)]\n",
    "print(L3)"
   ]
  },
  {
   "cell_type": "code",
   "execution_count": 87,
   "metadata": {},
   "outputs": [
    {
     "name": "stdout",
     "output_type": "stream",
     "text": [
      "[6, 6, 6, 6, 8, 7, 6, 8, 7, 9, 7, 8, 5, 8, 7, 9, 8, 6, 6, 6, 9, 8, 7, 5, 6, 8, 5, 6, 9, 8, 8, 8, 9, 9, 9, 9, 5, 6, 7, 7, 5, 8, 6, 8, 7, 6, 6, 5, 5, 7]\n"
     ]
    }
   ],
   "source": [
    "# Voici une autre syntaxe en utilisant une 'liste en compréhension'\n",
    "L4 = [rd.randint(5,10) for k in range(50)]\n",
    "print(L4)"
   ]
  },
  {
   "cell_type": "markdown",
   "metadata": {},
   "source": [
    "## La bibliothèque random \n",
    "\n",
    "Cette bibliothèque possède AUSSI une fonction ``randint()`` qui ne fonctionne pas de la même manière : la borne supérieure est cette fois incluse."
   ]
  },
  {
   "cell_type": "code",
   "execution_count": 88,
   "metadata": {},
   "outputs": [
    {
     "name": "stdout",
     "output_type": "stream",
     "text": [
      "[10, 6, 10, 8, 10, 7, 6, 5, 6, 6, 6, 9, 10, 7, 10, 5, 8, 7, 7, 6, 9, 7, 5, 5, 6, 7, 10, 10, 5, 10, 7, 8, 5, 8, 10, 5, 9, 9, 10, 5, 8, 9, 5, 6, 6, 9, 10, 5, 9, 9]\n"
     ]
    }
   ],
   "source": [
    "import random # il s'agit d'un autre module random qui n'est pas dans la bibliothèque Numpy\n",
    "L5 = [random.randint(5,10) for k in range(50)]\n",
    "print(L5) # On peut vérifier que la valeur 10 est atteinte !"
   ]
  },
  {
   "cell_type": "markdown",
   "metadata": {},
   "source": [
    "*A NOTER :* Dans la mesure du possible, on recommande de travailler avec numpy.random mais il faut savoir s'adapter à la bibliothèque random si cela vous est demandé.*"
   ]
  },
  {
   "cell_type": "markdown",
   "metadata": {},
   "source": [
    "# Histogrammes\n",
    "\n"
   ]
  },
  {
   "cell_type": "markdown",
   "metadata": {},
   "source": [
    "Un **histogramme** est une représentation graphique permettant de visualiser la répartition d'une variable continue en la représentant avec des colonnes. \n",
    "\n",
    "Pour tracer un histogramme, nous utilisons la fonction ``hist()`` qui appartient au module matplotlib.pyplot qui contient les outils graphiques.\n"
   ]
  },
  {
   "cell_type": "code",
   "execution_count": 89,
   "metadata": {},
   "outputs": [],
   "source": [
    "import matplotlib.pyplot as plt # import du sous-module pyplot de matplotlib"
   ]
  },
  {
   "cell_type": "code",
   "execution_count": 111,
   "metadata": {},
   "outputs": [],
   "source": [
    "# Etape 1 : création d'une liste de N valeurs aléatoires uniformément distribuées dans l'intervalle [100;150]\n",
    "N = 10**4\n",
    "L = [rd.random()*(150-100)+100 for k in range(N)] # L est une liste Python de 10000 flottants"
   ]
  },
  {
   "cell_type": "code",
   "execution_count": 112,
   "metadata": {},
   "outputs": [
    {
     "data": {
      "image/png": "[encoded data removed]",
      "text/plain": [
       "<Figure size 432x288 with 1 Axes>"
      ]
     },
     "metadata": {
      "needs_background": "light"
     },
     "output_type": "display_data"
    }
   ],
   "source": [
    "# Etape 2 : tracé de l'histogramme avec la fonction hist\n",
    "plt.hist(L,bins = 5) # l'option 'rice' ajuste automatiquement la taille des colonnes\n",
    "plt.xlim([0,200]) # modification des limites de l'axe horizontal\n",
    "plt.title(\"histogramme des tirages selon d'une distribution uniforme\")\n",
    "plt.xlabel('valeurs tirées')\n",
    "plt.ylabel('fréquences')\n",
    "plt.show()"
   ]
  },
  {
   "cell_type": "code",
   "execution_count": null,
   "metadata": {},
   "outputs": [],
   "source": []
  },
  {
   "cell_type": "code",
   "execution_count": 42,
   "metadata": {},
   "outputs": [
    {
     "data": {
      "text/plain": [
       "124.91534975760781"
      ]
     },
     "execution_count": 42,
     "metadata": {},
     "output_type": "execute_result"
    }
   ],
   "source": [
    "np.mean(L)"
   ]
  },
  {
   "cell_type": "markdown",
   "metadata": {},
   "source": [
    "# Estimateurs statistiques : moyenne, variance et écart-type\n",
    "\n",
    "Un estimateur est une fonction permettant d'évaluer un paramètre inconnu relatif à une loi de probabilité.\n",
    "\n",
    "Les deux estimateurs à notre programme sont :\n",
    "\n",
    "- la moyenne, noté $\\overline{x}$\n",
    "- l'écart-type, noté $\\sigma_x$.\n",
    "\n",
    "## L'estimateur 'moyenne'\n",
    "Prenons comme exemple les données qui sont contenues dans la liste ``L`` précédemment générées à partir d'une loi de probabilité uniforme sur l'intervalle $[100;150]$.\n",
    "\n",
    "On peut **estimer** la 'valeur centrale' de cette loi à partir des $N$ **réalisations** $\\{x_k,\\quad k=1\\ldots N\\}$. Pour cela, on effectue le calcul de la moyenne $\\overline{x}$ dont l'expression est la somme des valeurs divisée par le nombre de valeurs :\n",
    "\n",
    "$$\\overline{x}= \\frac{1}{N} \\sum_{k=1}^{N}x_k$$\n",
    "\n",
    "On donne ci-dessous deux méthodes pour calculer la moyenne des $N$ valeurs de la liste ``L``."
   ]
  },
  {
   "cell_type": "code",
   "execution_count": 43,
   "metadata": {},
   "outputs": [
    {
     "name": "stdout",
     "output_type": "stream",
     "text": [
      "moyenne =  124.91846004451664  ecart-type  =  14.280929409124063\n"
     ]
    }
   ],
   "source": [
    "import numpy as np\n",
    "import numpy.random as rd\n",
    "val = rd.uniform(100,150,10**3) # à compléter\n",
    "moyenne = np.mean(val)# à compléter\n",
    "etype = np.std(val, ddof=2)  # à compléter\n",
    "print(\"moyenne = \", moyenne, \" ecart-type  = \",etype)"
   ]
  },
  {
   "cell_type": "code",
   "execution_count": 7,
   "metadata": {},
   "outputs": [
    {
     "name": "stdout",
     "output_type": "stream",
     "text": [
      "moyenne =  7.479620659900872  ecart-type  =  1.453598838024072\n"
     ]
    }
   ],
   "source": [
    "import numpy as np\n",
    "import numpy.random as rd\n",
    "val = rd.uniform(5,10,10**3)\n",
    "moyenne = np.mean(val)\n",
    "etype = np.std(val,ddof = 2)\n",
    "print(\"moyenne = \", moyenne, \" ecart-type  = \",etype)"
   ]
  },
  {
   "cell_type": "code",
   "execution_count": 44,
   "metadata": {},
   "outputs": [
    {
     "name": "stdout",
     "output_type": "stream",
     "text": [
      "moyenne =  124.91534975760781\n"
     ]
    }
   ],
   "source": [
    "# 1ère méthode pour le cacul de la moyenne des valeurs d'une liste\n",
    "moy = 0 # initialisation de la moyenne\n",
    "for k in range(len(L)): # boucle sur les indices des éléments de la liste (len(L) renvoie le nb d'éléments)\n",
    "    moy = moy + L[k] # à chaque itération de la boucle, on additionne la k-ième valeur de la liste\n",
    "moy = moy / len(L) # on divise le résultat par le nombre d'éléments de L\n",
    "print('moyenne = ',moy) # affichage du résultat"
   ]
  },
  {
   "cell_type": "code",
   "execution_count": 113,
   "metadata": {},
   "outputs": [
    {
     "name": "stdout",
     "output_type": "stream",
     "text": [
      "moyennne =  125.03454552646575\n"
     ]
    }
   ],
   "source": [
    "# 2ème méthode pour le cacul de la moyenne des valeurs d'une liste\n",
    "print('moyennne = ',np.mean(L)) # la méthode mean() du module Numpy donne directement le résultat"
   ]
  },
  {
   "cell_type": "markdown",
   "metadata": {},
   "source": [
    "**Conclusion**\n",
    "\n",
    "On constate que la moyenne des N valeurs tirées est \"proche\" de la valeur centrale de l'intervalle $[100 ;150]$.\n",
    "\n",
    "Ainsi, la moyenne est une fonction des $N$ réalisations de la loi $\\overline{x}=f(\\{x_k\\})$ qui permet d'estimer la valeur centrale de la loi uniforme."
   ]
  },
  {
   "cell_type": "markdown",
   "metadata": {},
   "source": [
    "## L'estimateur 'écart-type'\n",
    "\n",
    "La dispersion des valeurs peut être quantifiée par le calcul de l'écart-type. \n",
    "\n",
    "Par définition, l'**écart-type** $\\sigma_x$ est la *racine carrée de la moyenne de l'écart quadratique à la moyenne*. En anglais, on dit aussi valeur *RMS* = **Root Mean Square**.\n",
    "\n",
    "Une estimation de l'écart-type peut donc être calculée de la manière suivante:\n",
    "\n",
    "(1) On soustrait chaque à valeur $x_k$ la moyenne $\\overline{x}$ des valeurs de\n",
    "\n",
    "(2) On prend le carré de cet écart à la moyenne, $\\left(x_k-\\overline{x}\\right)^2$ représente un écart *quadratique* \n",
    "\n",
    "(3) On prend la moyenne de ces écarts quadratiques (aussi appelée **variance**, notée $V(x)$):\n",
    "\n",
    "$$V(x)=\\frac{1}{N}\\sum_{k=1}^N \\left(x_k-\\overline{x}\\right)^2$$\n",
    "\n",
    "(4) Enfin, on prend la racine carrée de ce résultat:\n",
    "\n",
    "$$\\sigma_x=\\sqrt{\\frac{1}{N}\\sum_{k=1}^N \\left(x_k-\\overline{x}\\right)^2}$$\n"
   ]
  },
  {
   "cell_type": "markdown",
   "metadata": {},
   "source": [
    "On donne ci-dessous deux méthodes pour calculer l'écart-type des $N$ valeurs de la liste ``L``."
   ]
  },
  {
   "cell_type": "code",
   "execution_count": 320,
   "metadata": {},
   "outputs": [
    {
     "name": "stdout",
     "output_type": "stream",
     "text": [
      "écart-type =  14.394941249247399\n"
     ]
    }
   ],
   "source": [
    "# 1ère méthode pour le cacul de l'écart-type des valeurs d'une liste\n",
    "moy = np.mean(L) # calcul de la moyenne des valeurs de L (en dehors de la boucle !)\n",
    "etype = 0 # initialisation de l'écart-type\n",
    "for k in range(len(L)): # boucle sur les indices des éléments de la liste \n",
    "    etype += (L[k]-moy)**2 # à chaque itération de la boucle, on additionne le carré de l'écart à la moyenne\n",
    "etype = etype / len(L) # on prend la moyenne de ces écarts au carré\n",
    "etype = etype**(1/2) # on prend la racine carrée de cette moyenne\n",
    "print('écart-type = ',etype) # affichage du résultat"
   ]
  },
  {
   "cell_type": "code",
   "execution_count": 321,
   "metadata": {},
   "outputs": [
    {
     "name": "stdout",
     "output_type": "stream",
     "text": [
      "écart-type =  14.394941249247395\n"
     ]
    }
   ],
   "source": [
    "# 2ème méthode pour le cacul de l'écart-type des valeurs d'une liste\n",
    "print('écart-type = ',np.std(L)) # appel à la méthode std (standard deviation) du module Numpy"
   ]
  },
  {
   "cell_type": "markdown",
   "metadata": {},
   "source": [
    "**Remarque : écart-type sans biais**\n",
    "\n",
    "En théorie des probabilités (hors programme), on peut montrer que l'estimateur précédent n'est pas optimum : il possède un possède **un biais** d'autant plus important que le nombre d'échantillons $N$ est faible.\n",
    "\n",
    "C'est pourquoi nous utilisons (sauf indication contraire) l'estimateur suivant appelé **estimateur sans biais de l'écart-type**:\n",
    "\n",
    "$$\\sigma_x=\\sqrt{\\frac{1}{N-1}\\sum_{k=1}^N \\left(x_k-\\overline{x}\\right)^2}$$\n",
    "\n",
    "La calcul de cet estimateur se fait avec en appelant la méhode ``std()`` de Numpy avec le paramètre ``ddof = 1``. Le paramètre ddof signifie \"Delta Degree Of Freedom\" (= nombres de degrés de libertés)."
   ]
  },
  {
   "cell_type": "code",
   "execution_count": 322,
   "metadata": {},
   "outputs": [
    {
     "name": "stdout",
     "output_type": "stream",
     "text": [
      "écart-type sans biais =  14.395661050295386\n"
     ]
    }
   ],
   "source": [
    "print('écart-type sans biais = ',np.std(L,ddof = 1)) # estimateur non biaisé de l'écart-type"
   ]
  },
  {
   "cell_type": "markdown",
   "metadata": {},
   "source": [
    "**A savoir**\n",
    "\n",
    "Pour une loi de probabilité uniforme sur un intervalle $[a;b]$, l'écart-type vaut la *demi-largeur de l'intervalle divisée par racine carrée de 3*.\n",
    "\n",
    "On peut vérifier l'estimation obtenue pour l'écart-type est \"proche\" de la valeur théorique:\n",
    "\n",
    "$$\\frac{(b-a)/2}{\\sqrt{3}}=\\frac{25}{\\sqrt{3}}\\approx 14,44$$"
   ]
  },
  {
   "cell_type": "markdown",
   "metadata": {},
   "source": [
    "## Exercice N2bis n°1 (corrigé)\n",
    "\n",
    "a) Ecrire les instructions en python permettant de générer une liste X de N valeurs aléatoires tirées uniformément sur l'intervalle $[-2 ; 12]$. \n",
    "\n",
    "b) Calculer la moyenne et l'écart-type des valeurs de la liste pour $N=10$, $N=100$, $N=10^4$ et $N=10^6$. \n",
    "\n",
    "c) Comparer les résultats obtenus avec les valeurs théoriques. Conclure"
   ]
  },
  {
   "cell_type": "markdown",
   "metadata": {},
   "source": [
    "**Correction N2bis n°1**"
   ]
  },
  {
   "cell_type": "code",
   "execution_count": 11,
   "metadata": {},
   "outputs": [
    {
     "name": "stdout",
     "output_type": "stream",
     "text": [
      " N=  10 \t moyenne =  5.88691122493446  \tecart-type =  3.962268516384429\n",
      " N=  100 \t moyenne =  5.254009699991091  \tecart-type =  4.2696697274749225\n",
      " N=  10000 \t moyenne =  5.007298515928717  \tecart-type =  4.034834399610252\n",
      " N=  1000000 \t moyenne =  5.002476202782638  \tecart-type =  4.041530305146686\n"
     ]
    }
   ],
   "source": [
    "import numpy as np\n",
    "N = 10\n",
    "X= np.random.uniform(-2,12,N)\n",
    "print(\" N= \",N,\"\\t moyenne = \",np.mean(X), ' \\tecart-type = ',np.std(X,ddof = 1)) # sans biais\n",
    "N = 100\n",
    "X= np.random.uniform(-2,12,N)\n",
    "print(\" N= \",N,\"\\t moyenne = \",np.mean(X), ' \\tecart-type = ',np.std(X,ddof = 1)) # sans biais\n",
    "N = 10000\n",
    "X= np.random.uniform(-2,12,N)\n",
    "print(\" N= \",N,\"\\t moyenne = \",np.mean(X), ' \\tecart-type = ',np.std(X,ddof = 1)) # sans biais\n",
    "N = 1000000\n",
    "X= np.random.uniform(-2,12,N)\n",
    "print(\" N= \",N,\"\\t moyenne = \",np.mean(X), ' \\tecart-type = ',np.std(X,ddof = 1)) # sans biais"
   ]
  },
  {
   "cell_type": "code",
   "execution_count": 14,
   "metadata": {},
   "outputs": [
    {
     "name": "stdout",
     "output_type": "stream",
     "text": [
      " N= 10  \t moyenne =  4.347778333729714  \tecart-type =  3.361857096445212\n",
      " N= 100  \t moyenne =  5.311760042204508  \tecart-type =  3.927267260664249\n",
      " N= 10000  \t moyenne =  4.972227829541316  \tecart-type =  4.055904456055239\n",
      " N= 1000000  \t moyenne =  4.995598225042367  \tecart-type =  4.04129937597624\n"
     ]
    }
   ],
   "source": [
    "import numpy as np\n",
    "Nlist = [10 , 100, 10**4, 10**6]\n",
    "for k in range(len(Nlist)):\n",
    "    N = Nlist[k]\n",
    "    X= np.random.uniform(-2,12,N)\n",
    "    print(\" N=\",N,\" \\t moyenne = \",np.mean(X), ' \\tecart-type = ',np.std(X,ddof = 1)) # sans biais"
   ]
  },
  {
   "cell_type": "code",
   "execution_count": 323,
   "metadata": {},
   "outputs": [
    {
     "name": "stdout",
     "output_type": "stream",
     "text": [
      "moyenne =  3.9923299178578118  écart-type =  4.166980767349701\n"
     ]
    }
   ],
   "source": [
    "# Question a, ici le nb d'échantillons N vaut 10\n",
    "N = 10**1\n",
    "X = [np.random.random()*(12-(-2))-2 for k in range(N)] # création de la liste Python\n",
    "print('moyenne = ',np.mean(X),             # calcul de la moyenne\n",
    "      ' écart-type = ',np.std(X,ddof = 1)) # calcul de l'écart-type sans biais"
   ]
  },
  {
   "cell_type": "code",
   "execution_count": 324,
   "metadata": {},
   "outputs": [
    {
     "name": "stdout",
     "output_type": "stream",
     "text": [
      "N =  10 \t moyenne =  6.040098312764025  \t écart-type =  4.036028973974946\n",
      "N =  100 \t moyenne =  5.404071725991465  \t écart-type =  4.384141963540723\n",
      "N =  10000 \t moyenne =  4.948363832003256  \t écart-type =  4.037261715226672\n",
      "N =  1000000 \t moyenne =  5.0040985805200355  \t écart-type =  4.03945972389119\n"
     ]
    }
   ],
   "source": [
    "## Question b, ici on utilise une boucle sur les valeurs de N pour envisager les différentes valeurs\n",
    "Nlist = [10, 100, 10**4, 10**6]\n",
    "for N in Nlist : # boucle sur les valeurs de N dans la liste\n",
    "    X = [np.random.random()*(12-(-2))-2 for k in range(N)] # création de la liste Python de N valeurs\n",
    "    print('N = ', N,                         # affichage de valeur de N\n",
    "        '\\t moyenne = ',np.mean(X),             # calcul de la moyenne\n",
    "        ' \\t écart-type = ',np.std(X,ddof = 1)) # calcul de l'écart-type sans biais"
   ]
  },
  {
   "cell_type": "code",
   "execution_count": 325,
   "metadata": {},
   "outputs": [
    {
     "name": "stdout",
     "output_type": "stream",
     "text": [
      "valeurs théoriques : moyenne =  5.0  écart-type =  4.041451884327381\n"
     ]
    }
   ],
   "source": [
    "# Question c : comparaison avec les valeurs théoriques\n",
    "moyTheorique = (12+(-2))/2 # moyenne des bornes de l'intervalle\n",
    "etypeTheorique = (12-(-2))/2/np.sqrt(3) # demi-largeur de l'intervalle divisé par racine carré de 3\n",
    "print('valeurs théoriques : moyenne = ',moyTheorique, ' écart-type = ',etypeTheorique)"
   ]
  },
  {
   "cell_type": "markdown",
   "metadata": {},
   "source": [
    "Concusion : on constate que plus le nombre $N$ d'échantillons est grand, plus les estimateurs semblent \"proches\" des valeurs théoriques."
   ]
  },
  {
   "cell_type": "markdown",
   "metadata": {},
   "source": [
    "## Simulation d'une loi uniforme (type rectangulaire)\n",
    "\n",
    "Dans le paragraphe précédent, nous avions généré $N$ valeurs aléatoires tirées selon une loi uniforme à l'aide du tirage d'une unique valeur (fonction ``random()``).\n",
    "\n",
    "Le module ``random`` de Numpy contient la méthode ``uniform`` qui permet d'effectuer directement le tirage de $N$ valeurs sur un intervalle $[a;b]$.\n",
    "\n",
    "Attention, dans ce cas les valeurs générées sont de type ``nd.array`` (tableau Numpy) et ne sont plus une simple liste Python de valeurs comme c'était le cas dans le paragraphe précédent."
   ]
  },
  {
   "cell_type": "code",
   "execution_count": 326,
   "metadata": {},
   "outputs": [],
   "source": [
    "import numpy as np\n",
    "import matplotlib.pyplot as plt"
   ]
  },
  {
   "cell_type": "code",
   "execution_count": 327,
   "metadata": {
    "scrolled": true
   },
   "outputs": [
    {
     "name": "stdout",
     "output_type": "stream",
     "text": [
      "Help on built-in function uniform:\n",
      "\n",
      "uniform(...) method of numpy.random.mtrand.RandomState instance\n",
      "    uniform(low=0.0, high=1.0, size=None)\n",
      "    \n",
      "    Draw samples from a uniform distribution.\n",
      "    \n",
      "    Samples are uniformly distributed over the half-open interval\n",
      "    ``[low, high)`` (includes low, but excludes high).  In other words,\n",
      "    any value within the given interval is equally likely to be drawn\n",
      "    by `uniform`.\n",
      "    \n",
      "    .. note::\n",
      "        New code should use the ``uniform`` method of a ``default_rng()``\n",
      "        instance instead; see `random-quick-start`.\n",
      "    \n",
      "    Parameters\n",
      "    ----------\n",
      "    low : float or array_like of floats, optional\n",
      "        Lower boundary of the output interval.  All values generated will be\n",
      "        greater than or equal to low.  The default value is 0.\n",
      "    high : float or array_like of floats\n",
      "        Upper boundary of the output interval.  All values generated will be\n",
      "        less than high.  The default value is 1.0.\n",
      "    size : int or tuple of ints, optional\n",
      "        Output shape.  If the given shape is, e.g., ``(m, n, k)``, then\n",
      "        ``m * n * k`` samples are drawn.  If size is ``None`` (default),\n",
      "        a single value is returned if ``low`` and ``high`` are both scalars.\n",
      "        Otherwise, ``np.broadcast(low, high).size`` samples are drawn.\n",
      "    \n",
      "    Returns\n",
      "    -------\n",
      "    out : ndarray or scalar\n",
      "        Drawn samples from the parameterized uniform distribution.\n",
      "    \n",
      "    See Also\n",
      "    --------\n",
      "    randint : Discrete uniform distribution, yielding integers.\n",
      "    random_integers : Discrete uniform distribution over the closed\n",
      "                      interval ``[low, high]``.\n",
      "    random_sample : Floats uniformly distributed over ``[0, 1)``.\n",
      "    random : Alias for `random_sample`.\n",
      "    rand : Convenience function that accepts dimensions as input, e.g.,\n",
      "           ``rand(2,2)`` would generate a 2-by-2 array of floats,\n",
      "           uniformly distributed over ``[0, 1)``.\n",
      "    Generator.uniform: which should be used for new code.\n",
      "    \n",
      "    Notes\n",
      "    -----\n",
      "    The probability density function of the uniform distribution is\n",
      "    \n",
      "    .. math:: p(x) = \\frac{1}{b - a}\n",
      "    \n",
      "    anywhere within the interval ``[a, b)``, and zero elsewhere.\n",
      "    \n",
      "    When ``high`` == ``low``, values of ``low`` will be returned.\n",
      "    If ``high`` < ``low``, the results are officially undefined\n",
      "    and may eventually raise an error, i.e. do not rely on this\n",
      "    function to behave when passed arguments satisfying that\n",
      "    inequality condition.\n",
      "    \n",
      "    Examples\n",
      "    --------\n",
      "    Draw samples from the distribution:\n",
      "    \n",
      "    >>> s = np.random.uniform(-1,0,1000)\n",
      "    \n",
      "    All values are within the given interval:\n",
      "    \n",
      "    >>> np.all(s >= -1)\n",
      "    True\n",
      "    >>> np.all(s < 0)\n",
      "    True\n",
      "    \n",
      "    Display the histogram of the samples, along with the\n",
      "    probability density function:\n",
      "    \n",
      "    >>> import matplotlib.pyplot as plt\n",
      "    >>> count, bins, ignored = plt.hist(s, 15, density=True)\n",
      "    >>> plt.plot(bins, np.ones_like(bins), linewidth=2, color='r')\n",
      "    >>> plt.show()\n",
      "\n"
     ]
    }
   ],
   "source": [
    "help(np.random.uniform)"
   ]
  },
  {
   "cell_type": "code",
   "execution_count": 328,
   "metadata": {},
   "outputs": [
    {
     "data": {
      "image/png": "[encoded data removed]",
      "text/plain": [
       "<Figure size 432x288 with 1 Axes>"
      ]
     },
     "metadata": {
      "needs_background": "light"
     },
     "output_type": "display_data"
    }
   ],
   "source": [
    "X1 = np.random.uniform(-2,12,10**4) # 10^4 valeurs dans l'intervalle [-2;12]\n",
    "plt.hist(X1,bins = 'rice') # affichage de l'histogramme, rice = ajustement automatique\n",
    "plt.xlim([-10,20]) # modification des limites de l'axe X\n",
    "plt.show()"
   ]
  },
  {
   "cell_type": "markdown",
   "metadata": {},
   "source": [
    "### Influence du nombre de \"bins\" d'un histogramme\n",
    "\n",
    "On peut spécifier le nombre de *bins* (= nb de classes, nb de \"bacs\") lors de la construction d'un histogramme."
   ]
  },
  {
   "cell_type": "code",
   "execution_count": 329,
   "metadata": {},
   "outputs": [
    {
     "data": {
      "image/png": "[encoded data removed]",
      "text/plain": [
       "<Figure size 432x288 with 1 Axes>"
      ]
     },
     "metadata": {
      "needs_background": "light"
     },
     "output_type": "display_data"
    },
    {
     "data": {
      "image/png": "[encoded data removed]",
      "text/plain": [
       "<Figure size 432x288 with 1 Axes>"
      ]
     },
     "metadata": {
      "needs_background": "light"
     },
     "output_type": "display_data"
    }
   ],
   "source": [
    "plt.figure(1)\n",
    "plt.hist(X1,bins = 20) # affichage de l'histogramme, rice = ajustement automatique\n",
    "plt.xlim([-10,20]) # modification des limites de l'axe X\n",
    "plt.title('histogramme utilisant 20 classes')\n",
    "plt.show()\n",
    "\n",
    "plt.figure(2)\n",
    "plt.title('histogramme utilisant 200 classes')\n",
    "plt.hist(X1,bins = 200) # affichage de l'histogramme, rice = ajustement automatique\n",
    "plt.xlim([-10,20]) # modification des limites de l'axe X\n",
    "plt.show()"
   ]
  },
  {
   "cell_type": "markdown",
   "metadata": {},
   "source": [
    "**En conclusion**, on voit que le nombre de \"bins\" doit être doit choisi de manière judicieuse pour représenter convenablement un échantillon de valeurs. \n",
    "\n",
    "L'option ``bins ='rice'`` fournit automatiquement une valeur généralement acceptable."
   ]
  },
  {
   "cell_type": "markdown",
   "metadata": {},
   "source": [
    "## Simulation d'une loi normale (type gaussienne)\n",
    "\n",
    "Une **variable aléatoire gaussienne** (ou normale) décrit un processus aléatoire dont la probabilité d'obtenir une valeur numérique entre $x$ et $x+\\textrm{d}x$ est $f(x)\\textrm{d}x$ où $f(x)$ est appelée *densité de probabilité normale* et est donnée par:\n",
    "\n",
    "$$f(x)=\\frac{1}{\\sqrt{2\\pi}\\sigma}\\exp\\left(-\\frac{\\left(x-\\mu\\right)^2}{2\\sigma^2}\\right)$$\n",
    "\n",
    "Les paramètres $\\mu$ et $\\sigma$ sont les deux paramètres de la loi normale qui sont appelés, respectivement, moyenne et écart-type.\n",
    "\n",
    "La courbe de cette densité de probabilité est appelée courbe de Gauss (ou *courbe en cloche*).\n",
    "\n",
    "Pour simuler une loi gaussienne, on peut utiliser la fonction ``normal()``."
   ]
  },
  {
   "cell_type": "code",
   "execution_count": 38,
   "metadata": {},
   "outputs": [
    {
     "name": "stdout",
     "output_type": "stream",
     "text": [
      "Histogramme\n"
     ]
    },
    {
     "data": {
      "image/png": "[encoded data removed]",
      "text/plain": [
       "<Figure size 432x288 with 1 Axes>"
      ]
     },
     "metadata": {
      "needs_background": "light"
     },
     "output_type": "display_data"
    }
   ],
   "source": [
    "import numpy as np\n",
    "import matplotlib.pyplot as plt\n",
    "N = 10**6 # nombre de valeurs\n",
    "X2 = np.random.normal(5,14/np.sqrt(3),N)  # Loi normale (distribution gaussienne)\n",
    "                                          # moyenne, écart-type, nombre de tirages)\n",
    "plt.hist(X2,bins='rice',color ='red')\n",
    "plt.xlabel('valeurs tirées') \n",
    "plt.ylabel(\"Fréquences d'apparation\")\n",
    "plt.title(\"Simulation de N tirages d'une loi normale\")\n",
    "print(\"Histogramme\")"
   ]
  },
  {
   "cell_type": "markdown",
   "metadata": {},
   "source": [
    "### Autre méthode pour simuler un tirage aléatoire\n",
    "\n",
    "A partir d'échantillons tirés selon une loi gaussienne de moyenne nulle et d'écart-type égal à un, il est possible **par multiplication puis addition** d'obtenir des échantillons tirés selon une moyenne $\\mu$ et un écart-type $\\sigma$ quelconques."
   ]
  },
  {
   "cell_type": "code",
   "execution_count": 41,
   "metadata": {},
   "outputs": [
    {
     "name": "stdout",
     "output_type": "stream",
     "text": [
      "histogramme\n"
     ]
    },
    {
     "data": {
      "image/png": "[encoded data removed]",
      "text/plain": [
       "<Figure size 432x288 with 1 Axes>"
      ]
     },
     "metadata": {
      "needs_background": "light"
     },
     "output_type": "display_data"
    }
   ],
   "source": [
    "N = 10**6 # nb d'échantillons\n",
    "## Tirage de moyenne nulle et de variance unitaire\n",
    "X1 = np.random.normal(0,1,N) # moyenne = 0, écart-type = 1\n",
    "\n",
    "## Obtenu d'un tirage de moyenne moy = 5. et d'écart type sigma =2.\n",
    "mu, sigma = 5., 2.\n",
    "\n",
    "X2 = X1*sigma + mu # multiplication par sigma et 'translation' de moy\n",
    "plt.hist(X2,bins='rice')\n",
    "plt.hist(X1,bins='rice')\n",
    "print(\"histogramme\")\n"
   ]
  },
  {
   "cell_type": "markdown",
   "metadata": {},
   "source": [
    "De même, à partir d'un tirage uniforme sur l'intervalle $[0;1]$ il est possible d'obtenir un tirage uniforme sur l'intervalle $[a;b]$.\n",
    "\n",
    "## N2 n°2 Exercice (corrigé)\n",
    "\n",
    "Compléter le script ci-dessous de manière à créer, à partir de la la liste d'échantillons *X1*, une liste d'échantillons *X2* tirés uniformément sur l'intervalle $I=[x_0-\\Delta x;x_0+\\Delta x]$ avec $x_0 = 12$ et $\\Delta x = 0,25$."
   ]
  },
  {
   "cell_type": "code",
   "execution_count": 21,
   "metadata": {},
   "outputs": [
    {
     "data": {
      "image/png": "[encoded data removed]",
      "text/plain": [
       "<Figure size 432x288 with 1 Axes>"
      ]
     },
     "metadata": {
      "needs_background": "light"
     },
     "output_type": "display_data"
    }
   ],
   "source": [
    "N = 50000 # nb d'échantillons\n",
    "X1 = np.random.uniform(0,1,N) # tirage uniforme sur [0;1]\n",
    "\n",
    "x0, deltax = 12., 0.25\n",
    "X2 = (X1-0.5)*2*deltax + x0# à compléter\n",
    "\n",
    "plt.hist(X2,bins='rice')\n",
    "plt.xlim([11,13]) # mise à l'échelle des x\n",
    "plt.show()"
   ]
  },
  {
   "cell_type": "markdown",
   "metadata": {},
   "source": [
    "**Correction N2 n°2**\n",
    "La ligne correctement complétée est la suivante:\n",
    "```\n",
    "X2 = (X1-0.5)*2*deltax + x0\n",
    "```\n",
    "Voici le raisonnement utilisé :\n",
    "\n",
    "- (X1-0.5) est une collection de valeurs centrées sur zéro, son étendue est $\\pm 0,5$ autour de zéro,\n",
    "- on multiplie alors les valeurs par $2\\Delta x$ pour avoir la bonne largeur d'intervalle,\n",
    "- enfin on applique une *translation* sur les valeurs en ajoutant la valeur centrale $x_0$ de l'intervalle.\n"
   ]
  },
  {
   "cell_type": "code",
   "execution_count": 332,
   "metadata": {},
   "outputs": [
    {
     "data": {
      "image/png": "[encoded data removed]",
      "text/plain": [
       "<Figure size 432x288 with 1 Axes>"
      ]
     },
     "metadata": {
      "needs_background": "light"
     },
     "output_type": "display_data"
    }
   ],
   "source": [
    "N = 50000 # nb d'échantillons\n",
    "X1 = np.random.uniform(0,1,N) # tirage uniforme sur [0;1]\n",
    "\n",
    "x0, deltax = 12., 0.25\n",
    "X2 = (X1-0.5)*2*deltax + x0\n",
    "\n",
    "plt.hist(X2,bins='rice')\n",
    "plt.xlim([11,13]) # mise à l'échelle des x\n",
    "plt.show()"
   ]
  },
  {
   "cell_type": "markdown",
   "metadata": {},
   "source": [
    "# Régression linéaire (ou régression affine)\n",
    "\n",
    "Supposons que l'on dispose de $N$ couples valeurs $(x_k,y_k)$ avec $k=1,\\ldots,N$.\n",
    "\n",
    "Ces valeurs peuvent être représentées dans un plan en tant que nuage de points.\n",
    "\n",
    "On dit que l'on effectue une régression linéaire sur les données  $\\{(x_k,y_k) \\textrm{ avec } k=1, \\ldots ,N\\}$ lorsque l'on cherche à faire passer une droite \"au mieux par tous les points\" comme cela est illustré sur la figure ci-dessous.\n",
    "\n",
    "![regressionDroite](img/regressionDroite2.png)\n",
    "\n",
    "**Définition :** Un modèle de régression linéaire est un modèle de régression qui cherche à établir une relation linéaire entre une variable, dite expliquée noté Y, et une ou plusieurs variables, dites explicatives (notée X).\n"
   ]
  },
  {
   "cell_type": "markdown",
   "metadata": {},
   "source": [
    "## La fonction polyfit de numpy\n",
    "\n",
    "Pour effectuer la régression linéaire, nous utiliserons la fonction ``polyfit()`` du module Numpy.\n"
   ]
  },
  {
   "cell_type": "code",
   "execution_count": 39,
   "metadata": {},
   "outputs": [
    {
     "name": "stdout",
     "output_type": "stream",
     "text": [
      "Help on function polyfit in module numpy:\n",
      "\n",
      "polyfit(x, y, deg, rcond=None, full=False, w=None, cov=False)\n",
      "    Least squares polynomial fit.\n",
      "    \n",
      "    Fit a polynomial ``p(x) = p[0] * x**deg + ... + p[deg]`` of degree `deg`\n",
      "    to points `(x, y)`. Returns a vector of coefficients `p` that minimises\n",
      "    the squared error in the order `deg`, `deg-1`, ... `0`.\n",
      "    \n",
      "    The `Polynomial.fit <numpy.polynomial.polynomial.Polynomial.fit>` class\n",
      "    method is recommended for new code as it is more stable numerically. See\n",
      "    the documentation of the method for more information.\n",
      "    \n",
      "    Parameters\n",
      "    ----------\n",
      "    x : array_like, shape (M,)\n",
      "        x-coordinates of the M sample points ``(x[i], y[i])``.\n",
      "    y : array_like, shape (M,) or (M, K)\n",
      "        y-coordinates of the sample points. Several data sets of sample\n",
      "        points sharing the same x-coordinates can be fitted at once by\n",
      "        passing in a 2D-array that contains one dataset per column.\n",
      "    deg : int\n",
      "        Degree of the fitting polynomial\n",
      "    rcond : float, optional\n",
      "        Relative condition number of the fit. Singular values smaller than\n",
      "        this relative to the largest singular value will be ignored. The\n",
      "        default value is len(x)*eps, where eps is the relative precision of\n",
      "        the float type, about 2e-16 in most cases.\n",
      "    full : bool, optional\n",
      "        Switch determining nature of return value. When it is False (the\n",
      "        default) just the coefficients are returned, when True diagnostic\n",
      "        information from the singular value decomposition is also returned.\n",
      "    w : array_like, shape (M,), optional\n",
      "        Weights to apply to the y-coordinates of the sample points. For\n",
      "        gaussian uncertainties, use 1/sigma (not 1/sigma**2).\n",
      "    cov : bool or str, optional\n",
      "        If given and not `False`, return not just the estimate but also its\n",
      "        covariance matrix. By default, the covariance are scaled by\n",
      "        chi2/sqrt(N-dof), i.e., the weights are presumed to be unreliable\n",
      "        except in a relative sense and everything is scaled such that the\n",
      "        reduced chi2 is unity. This scaling is omitted if ``cov='unscaled'``,\n",
      "        as is relevant for the case that the weights are 1/sigma**2, with\n",
      "        sigma known to be a reliable estimate of the uncertainty.\n",
      "    \n",
      "    Returns\n",
      "    -------\n",
      "    p : ndarray, shape (deg + 1,) or (deg + 1, K)\n",
      "        Polynomial coefficients, highest power first.  If `y` was 2-D, the\n",
      "        coefficients for `k`-th data set are in ``p[:,k]``.\n",
      "    \n",
      "    residuals, rank, singular_values, rcond\n",
      "        Present only if `full` = True.  Residuals is sum of squared residuals\n",
      "        of the least-squares fit, the effective rank of the scaled Vandermonde\n",
      "        coefficient matrix, its singular values, and the specified value of\n",
      "        `rcond`. For more details, see `linalg.lstsq`.\n",
      "    \n",
      "    V : ndarray, shape (M,M) or (M,M,K)\n",
      "        Present only if `full` = False and `cov`=True.  The covariance\n",
      "        matrix of the polynomial coefficient estimates.  The diagonal of\n",
      "        this matrix are the variance estimates for each coefficient.  If y\n",
      "        is a 2-D array, then the covariance matrix for the `k`-th data set\n",
      "        are in ``V[:,:,k]``\n",
      "    \n",
      "    \n",
      "    Warns\n",
      "    -----\n",
      "    RankWarning\n",
      "        The rank of the coefficient matrix in the least-squares fit is\n",
      "        deficient. The warning is only raised if `full` = False.\n",
      "    \n",
      "        The warnings can be turned off by\n",
      "    \n",
      "        >>> import warnings\n",
      "        >>> warnings.simplefilter('ignore', np.RankWarning)\n",
      "    \n",
      "    See Also\n",
      "    --------\n",
      "    polyval : Compute polynomial values.\n",
      "    linalg.lstsq : Computes a least-squares fit.\n",
      "    scipy.interpolate.UnivariateSpline : Computes spline fits.\n",
      "    \n",
      "    Notes\n",
      "    -----\n",
      "    The solution minimizes the squared error\n",
      "    \n",
      "    .. math ::\n",
      "        E = \\sum_{j=0}^k |p(x_j) - y_j|^2\n",
      "    \n",
      "    in the equations::\n",
      "    \n",
      "        x[0]**n * p[0] + ... + x[0] * p[n-1] + p[n] = y[0]\n",
      "        x[1]**n * p[0] + ... + x[1] * p[n-1] + p[n] = y[1]\n",
      "        ...\n",
      "        x[k]**n * p[0] + ... + x[k] * p[n-1] + p[n] = y[k]\n",
      "    \n",
      "    The coefficient matrix of the coefficients `p` is a Vandermonde matrix.\n",
      "    \n",
      "    `polyfit` issues a `RankWarning` when the least-squares fit is badly\n",
      "    conditioned. This implies that the best fit is not well-defined due\n",
      "    to numerical error. The results may be improved by lowering the polynomial\n",
      "    degree or by replacing `x` by `x` - `x`.mean(). The `rcond` parameter\n",
      "    can also be set to a value smaller than its default, but the resulting\n",
      "    fit may be spurious: including contributions from the small singular\n",
      "    values can add numerical noise to the result.\n",
      "    \n",
      "    Note that fitting polynomial coefficients is inherently badly conditioned\n",
      "    when the degree of the polynomial is large or the interval of sample points\n",
      "    is badly centered. The quality of the fit should always be checked in these\n",
      "    cases. When polynomial fits are not satisfactory, splines may be a good\n",
      "    alternative.\n",
      "    \n",
      "    References\n",
      "    ----------\n",
      "    .. [1] Wikipedia, \"Curve fitting\",\n",
      "           https://en.wikipedia.org/wiki/Curve_fitting\n",
      "    .. [2] Wikipedia, \"Polynomial interpolation\",\n",
      "           https://en.wikipedia.org/wiki/Polynomial_interpolation\n",
      "    \n",
      "    Examples\n",
      "    --------\n",
      "    >>> import warnings\n",
      "    >>> x = np.array([0.0, 1.0, 2.0, 3.0,  4.0,  5.0])\n",
      "    >>> y = np.array([0.0, 0.8, 0.9, 0.1, -0.8, -1.0])\n",
      "    >>> z = np.polyfit(x, y, 3)\n",
      "    >>> z\n",
      "    array([ 0.08703704, -0.81349206,  1.69312169, -0.03968254]) # may vary\n",
      "    \n",
      "    It is convenient to use `poly1d` objects for dealing with polynomials:\n",
      "    \n",
      "    >>> p = np.poly1d(z)\n",
      "    >>> p(0.5)\n",
      "    0.6143849206349179 # may vary\n",
      "    >>> p(3.5)\n",
      "    -0.34732142857143039 # may vary\n",
      "    >>> p(10)\n",
      "    22.579365079365115 # may vary\n",
      "    \n",
      "    High-order polynomials may oscillate wildly:\n",
      "    \n",
      "    >>> with warnings.catch_warnings():\n",
      "    ...     warnings.simplefilter('ignore', np.RankWarning)\n",
      "    ...     p30 = np.poly1d(np.polyfit(x, y, 30))\n",
      "    ...\n",
      "    >>> p30(4)\n",
      "    -0.80000000000000204 # may vary\n",
      "    >>> p30(5)\n",
      "    -0.99999999999999445 # may vary\n",
      "    >>> p30(4.5)\n",
      "    -0.10547061179440398 # may vary\n",
      "    \n",
      "    Illustration:\n",
      "    \n",
      "    >>> import matplotlib.pyplot as plt\n",
      "    >>> xp = np.linspace(-2, 6, 100)\n",
      "    >>> _ = plt.plot(x, y, '.', xp, p(xp), '-', xp, p30(xp), '--')\n",
      "    >>> plt.ylim(-2,2)\n",
      "    (-2, 2)\n",
      "    >>> plt.show()\n",
      "\n"
     ]
    }
   ],
   "source": [
    "help(np.polyfit) # polyfit(xData,yData,degreDuPolynôme)"
   ]
  },
  {
   "cell_type": "markdown",
   "metadata": {},
   "source": [
    "La syntaxe est la suivante:\n",
    "```\n",
    "p = polyfit(xData,yData,deg = 1) # on précise le degré du polynôme.\n",
    "```\n",
    "\n",
    "Le résultat ``p`` est une liste Python de $n$ valeurs qui représente les coefficients d'un polynôme de degré $n-1$ écrit sous la forme suivante:\n",
    "\n",
    "$$P(X) = p[0]X^{n-1}+p[1]X^{n-2} + p[2] X^{n-3}+\\ldots + p[n-2]X+p[n-1]$$\n",
    "\n",
    "Exemple ``p = [3,2,1]`` représente le polynôme de degré deux suiant:\n",
    "\n",
    "$$P(X) = 3X^2 + 2X +1$$\n",
    "\n",
    "Pour une régression affine, le degré du polynôme est ``deg = 1``.\n",
    "\n",
    "Les coefficients de la droite de régression $Y=AX+B$ sont donc donnés par :\n",
    "\n",
    "- ``A = p[0]``, est la pente de la droite, c'est le coefficient du terme de degré 1,\n",
    "\n",
    "- ``B = p[1]``, est le terme constant (l'ordonnée à l'origine), c'est le coefficient du terme de degré zéro."
   ]
  },
  {
   "cell_type": "markdown",
   "metadata": {},
   "source": [
    "## N2 n°3 Exercice-type pour la régression linéaire : exemple de situation expérimentale (corrigé)\n",
    "\n",
    "- On mesure l'absorbance de cinq solutions de complexe $\\mathrm{[Fe(SCN)]^{2+}}$  de concentrations connues. L'absorbance de chacune des solutions est mesurée à 580 nm.\n",
    "- On dispose d'une solution (s) de la même espèce chimique dont on souhaite connaître la concentration $C_s$ munie de son incertitude-type. \n",
    "\n",
    "**Données du problème**\n",
    "- Les résultats sont consignés dans le tableau ci-dessous ($\\lambda  = 580 \\ \\mathrm{nm})$\n",
    "\n",
    "$$ \n",
    "\\begin{array}{|c|c|c|c|c|c|}\n",
    "\\hline \\mathrm{C \\ / \\ mol \\ L^{-1}} & 2.5 \\cdot 10^{-4} & 5.0 \\cdot 10^{-4} & 1.0 \\cdot 10^{-3} & 1.5 \\cdot 10^{-3} & 2.0 \\cdot 10^{-3}\\\\\n",
    "\\hline \\mathrm{A} & 0.143 & 0.264 & 0.489 & 0.741 & 0.998 \\\\\n",
    "\\hline\n",
    "\\end{array}\n",
    "$$\n",
    "\n",
    "- L'absorbance de la solution (s) lue est $A_s = 0.571$\n",
    "- Dans la notice du spectrophotomètre, le constructeur indique que la précision sur la mesure de A est $\\pm 2\\%$. On l'interprète comme une variable aléatoire à distribution uniforme sur un intervalle de demi-étendue  $\\Delta A = \\frac{2}{100} A$ ;\n",
    "- pour les solutions, le technicien fournit une « précision » de la concentration $C$ à 2 %. On l'interprète comme une variable aléatoire à distribution uniforme sur un intervalle de demi-étendue  $\\Delta C = \\frac{2}{100} C$."
   ]
  },
  {
   "cell_type": "markdown",
   "metadata": {},
   "source": [
    "**Questions**\n",
    "\n",
    "a) Déterminer l'équation de la droite d'étalonnage par une régression affine $C=f(A)$.\n",
    "\n",
    "b) Représenter la droite de régression ainsi que le jeu des cinq donnnées.\n",
    "\n",
    "c) En déduire la concentration $A_s$ de la solution inconnue."
   ]
  },
  {
   "cell_type": "markdown",
   "metadata": {},
   "source": [
    "### a) Détermination des coefficients de la droite de régression\n",
    "\n",
    "Il suffit d'appeler la fonction poylfit sur le jeu de données:\n",
    "- $x=C$, concentration en abscisses,\n",
    "- $y=A$, absorbance en ordonnées."
   ]
  },
  {
   "cell_type": "code",
   "execution_count": 75,
   "metadata": {},
   "outputs": [
    {
     "data": {
      "image/png": "[encoded data removed]",
      "text/plain": [
       "<Figure size 432x288 with 1 Axes>"
      ]
     },
     "metadata": {
      "needs_background": "light"
     },
     "output_type": "display_data"
    }
   ],
   "source": [
    "# Etape zéro : Entrée des données du problème : C et A sont des tableaux Numpy de même taille\n",
    "C = np.array([2.5e-4, 5.0e-4, 1.0e-3, 1.5e-3, 2.0e-3])              \n",
    "A = np.array([0.143, 0.264, 0.520, 0.741, 0.998])\n",
    "\n",
    "# Etape 1: visualisation des données (à faire systématiquement même si non demandé)\n",
    "plt.plot(C,A,'+k',ms = 15,mew = 3) #on trace l'absorbance A en fonction de la concentration C\n",
    "plt.xlabel('Concentration (mol/L)') , plt.ylabel('Absorbance'), plt.grid()\n",
    "plt.xlim([0,2.2e-3]), plt.ylim([0,1.1]) # ajustement des limites d'axes pour voir le \"zéro\"\n",
    "plt.title(\"Données d'étalonnage\")\n",
    "plt.show() "
   ]
  },
  {
   "cell_type": "code",
   "execution_count": 57,
   "metadata": {},
   "outputs": [
    {
     "name": "stdout",
     "output_type": "stream",
     "text": [
      "[4.85829268e+02 2.30792683e-02]\n"
     ]
    }
   ],
   "source": [
    "# Détermination des coefficients de la régression: utilisation de la fonction polyfit\n",
    "p = np.polyfit(C, A, deg = 1) # On effectue le régression Y = f(X) = p1.x + p0 soit A = p1.C + p0\n",
    "print(p)"
   ]
  },
  {
   "cell_type": "code",
   "execution_count": 58,
   "metadata": {},
   "outputs": [
    {
     "name": "stdout",
     "output_type": "stream",
     "text": [
      "La pente de la droite de régression est p1 =  485.8 L/mol\n",
      "L'ordonnée à l'origine est p0 =  0.02308\n"
     ]
    }
   ],
   "source": [
    "# Affichage du résultat (ATTENTION aux unités des coefficients!)\n",
    "print('La pente de la droite de régression est p1 = ',format(p[0],\"#.4g\"), 'L/mol')# la pente est en L/mol\n",
    "print(\"L'ordonnée à l'origine est p0 = \",format(p[1],\"#.4g\"))"
   ]
  },
  {
   "cell_type": "markdown",
   "metadata": {},
   "source": [
    "Remarque : la commande ``format(x,\"#.4g\")`` permet de mettre en forme le nombre flottant en supprimant les chiffres non significatifs."
   ]
  },
  {
   "cell_type": "markdown",
   "metadata": {},
   "source": [
    "### b) Représentation de la droite de régression\n",
    "\n",
    "Pour tracer une droite, il suffit de deux points.\n",
    "\n",
    "Nous construisons donc un vecteur Numpy contenant les deux valeurs extrêmes des abscisses :\n",
    "```\n",
    "xi = np.array([np.min(C),np.max(C)]) \n",
    "```\n",
    "Puis nous calculons les valeurs $y_i$ par l'équation de la droite \n",
    "```\n",
    "yi = p[0]*xi + p[1]\n",
    "```"
   ]
  },
  {
   "cell_type": "code",
   "execution_count": 82,
   "metadata": {},
   "outputs": [
    {
     "data": {
      "image/png": "[encoded data removed]",
      "text/plain": [
       "<Figure size 432x288 with 1 Axes>"
      ]
     },
     "metadata": {
      "needs_background": "light"
     },
     "output_type": "display_data"
    }
   ],
   "source": [
    "# Superposition des données et de la droite de régression \n",
    "# Affichage des données\n",
    "\n",
    "plt.plot(C,A,'+k',ms = 15,mew = 3) #on trace l'absorbance A en fonction de la concentration C\n",
    "plt.xlabel('Concentration (mol/L)') , plt.ylabel('Absorbance'), plt.grid()\n",
    "plt.xlim([0,2.2e-3]), plt.ylim([0,1.1]) # ajustement des limites d'axes pour voir le \"zéro\"\n",
    "\n",
    "# Détermination des valeurs minimales et maximales d'abscisses\n",
    "xi = np.array([np.min(C), np.max(C)]) # les deux valeurs d'abscisses permettant le tracé de la droite\n",
    "# remarque: ici, on souhaite visualiser l'équation de droite à proximité du point origine\n",
    "xi = np.array([0, np.max(C)]) # les deux valeurs d'abscisses permettant le tracé de la droite\n",
    "\n",
    "# Calcul des deux valeurs d'ordonnées pour les points extrêmes\n",
    "yi = p[0]*xi + p[1]\n",
    "plt.plot(xi,yi,'-r') # droite de régression en rouge\n",
    "                 \n",
    "plt.title(\"Données d'étalonnage et droite de régression\")\n",
    "plt.show()"
   ]
  },
  {
   "cell_type": "markdown",
   "metadata": {},
   "source": [
    "### c) Détermination de la concentration inconnue.\n",
    "\n",
    "Il suffit d'utiliser la relation affine pour laquelle les constantes $A$ et $B$ sont connnues:\n",
    "\n",
    "$$Y = A.X+B$$\n",
    "\n",
    "La valeur de $Y$ étant connue, on en déduit la valeur de $X$.\n",
    "\n",
    "Dans notre cas, \n",
    "$$A = \\textrm{p[0] }C + \\textrm{p[1] }$$\n",
    "On en tire donc\n",
    "$$C=\\frac{A-\\textrm{p[1]}}{ \\textrm{p[0] }}$$"
   ]
  },
  {
   "cell_type": "code",
   "execution_count": 88,
   "metadata": {},
   "outputs": [
    {
     "name": "stdout",
     "output_type": "stream",
     "text": [
      "La concentration de la solution inconnue est estimée à Cs =  0.001128  mol/L\n"
     ]
    }
   ],
   "source": [
    "As = 0.571 # donnée mesurée\n",
    "Cs = (As-p[1])/p[0]\n",
    "print('La concentration de la solution inconnue est estimée à Cs = ',format(Cs,\"#.4g\"), ' mol/L' )"
   ]
  },
  {
   "cell_type": "markdown",
   "metadata": {},
   "source": [
    "Conclusion : la concentration de la solution est estimée à $C_s \\approx 1,128 \\times 10 ^{-3} \\, \\textrm{mol.L}^{-1}$.\n",
    "\n",
    "En revanche, nous n'avons aucune information quant à la précision de ce résultat.\n",
    "\n",
    "L'estimation des incertitudes est au programme en MPSI et sera vue ultérieurement."
   ]
  },
  {
   "cell_type": "markdown",
   "metadata": {},
   "source": [
    "# Exercices d'entraînement"
   ]
  },
  {
   "cell_type": "markdown",
   "metadata": {},
   "source": [
    "## N2 n°4 Simulation de la somme de deux variables aléatoires gaussiennes (exo corrigé)\n",
    "\n",
    "a) Ecrire le code python qui génère deux variables aléatoires gaussiennes $X_1$ et $X_2$ de paramètres respectifs $\\mu_1=5$, $\\sigma_1=0.5$ et $\\mu_2=10$, $\\sigma_2=1$. On utilisera la fonction ``normal()`` du module numy.random. et on choisira $N=10^6$ échantillons de chacune de ces variables.\n",
    "\n",
    "b) Représenter graphiquement les histogrammes des échantillons $X_1$, $X_2$ et $X_s=X_1+X_2$ sur un même graphe.\n",
    "\n",
    "c) Ecrire le code Python qui estime la moyenne et l'écart-type de la variable $X_s$.\n",
    "\n",
    "d) Comparer l'estimation de l'écart-type $\\sigma_s$ à la valeur théorique donnée par l'expression suivante:\n",
    "$$\\sigma_s=\\sqrt{\\sigma_1^2+\\sigma_2^2}$$\n",
    "\n",
    "On s'aidera de la trâme proposée (à compléter) pour résoudre l'exercice."
   ]
  },
  {
   "cell_type": "code",
   "execution_count": null,
   "metadata": {},
   "outputs": [],
   "source": [
    "## a) génération des deux variables aléatoires\n",
    "# Etape 1: import du module numpy et du module random de numpy\n",
    "# à compléter\n",
    "\n",
    "# Etape 2: utilisation de la fonction normal(moy, ecarttype, nbSamples)\n",
    "N = 10**6 # nb d'échantillons\n",
    "X1 = # à compléter# génère 10^6 nb aléatoires selon la loi normale de moyenne 5 et d'écart-type 1\n",
    "X2 = # à compléter# génère 10^6 nb aléatoires selon la loi normale de moyenne 10 et d'écart-type 2"
   ]
  },
  {
   "cell_type": "code",
   "execution_count": null,
   "metadata": {},
   "outputs": [],
   "source": [
    "## b) Représentation des histogrammes des échantillons X1 et X2\n",
    "# Etape 1: import du module pyplot\n",
    "# à compléter\n",
    "\n",
    "# Etape 2: construction des valeurs de la variable somme Xs\n",
    "\n",
    "Xs = # à compléter\n",
    "\n",
    "# Etape 2: tracé des histogrammes avec la fonction hist\n",
    "# à compléter # histogramme de X1\n",
    "# à compléter# histogramme de X2\n",
    "# à compléter # histogramme de Xs\n",
    "\n",
    "# Etape 3: ajout des titres des axes, titre de figure\n",
    "plt.xlabel('Valeurs tirées')\n",
    "plt.ylabel('Fréquences')\n",
    "plt.title('histogrammes des variables X1, X2 et X1+X2')\n",
    "plt.legend()\n",
    "plt.show()"
   ]
  },
  {
   "cell_type": "code",
   "execution_count": null,
   "metadata": {},
   "outputs": [],
   "source": [
    "# c) Estimation de la moyenne et de l'écart-type de la variable Xs\n",
    "moyS  # à compléter #calcule la moyenne\n",
    "sigmaS # à compléter # calcule l'écart type\n",
    "print(\"Estimateurs : moyenne = \",moyS,\" écart-type = \",sigmaS)\n"
   ]
  },
  {
   "cell_type": "code",
   "execution_count": null,
   "metadata": {},
   "outputs": [],
   "source": [
    "# d) Comparaison avec la valeur théorique\n",
    "s1, s2 = 0.5, 1. # variables auxilaires\n",
    "sigmaStheo = # à compléter \n",
    "print(\"valeur théorique de l'écart-type \",sigmaStheo)"
   ]
  },
  {
   "cell_type": "markdown",
   "metadata": {},
   "source": [
    "**Correction de l'exercice N2 n°4**"
   ]
  },
  {
   "cell_type": "code",
   "execution_count": 96,
   "metadata": {},
   "outputs": [],
   "source": [
    "# a) génération des deux variables aléatoire\n",
    "# Etape 1: import du module numpy et du module random de numpy\n",
    "import numpy as np\n",
    "import numpy.random as rd\n",
    "\n",
    "# Etape 2: utilisation de la fonction normal(moy, ecarttype, nbSamples)\n",
    "N = 10**6 # nb d'échantillons\n",
    "X1 = rd.normal(5., .5 , N) # génère 10^6 nb aléatoires selon la loi normale de moyenne 5 et d'écart-type 1\n",
    "X2 = rd.normal(10., 1., N) # génère 10^6 nb aléatoires selon la loi normale de moyenne 10 et d'écart-type 2"
   ]
  },
  {
   "cell_type": "code",
   "execution_count": 103,
   "metadata": {},
   "outputs": [
    {
     "data": {
      "image/png": "[encoded data removed]",
      "text/plain": [
       "<Figure size 432x288 with 1 Axes>"
      ]
     },
     "metadata": {
      "needs_background": "light"
     },
     "output_type": "display_data"
    }
   ],
   "source": [
    "# b) Représentation des histogrammes des échantillons X1 et X2\n",
    "# Etape 1: import du module pyplot\n",
    "import matplotlib.pyplot as plt\n",
    "\n",
    "# Etape 2: construction des valeurs de la variable somme Xs\n",
    "\n",
    "Xs = X1+X2\n",
    "\n",
    "# Etape 2: tracé des histogrammes avec la fonction hist\n",
    "plt.hist(X1, bins = 'rice',label='X1') # histogramme de X1\n",
    "plt.hist(X2, bins = 'rice',label='X2') # histogramme de X2\n",
    "plt.hist(Xs, bins = 'rice',label='X1+X2') # histogramme de Xs\n",
    "\n",
    "# Etape 3: ajout des titres des axes, titre de figure\n",
    "plt.xlabel('Valeurs tirées')\n",
    "plt.ylabel('Fréquences')\n",
    "plt.title('histogrammes des variables X1, X2 et X1+X2')\n",
    "plt.legend()\n",
    "plt.show()"
   ]
  },
  {
   "cell_type": "code",
   "execution_count": 109,
   "metadata": {},
   "outputs": [
    {
     "name": "stdout",
     "output_type": "stream",
     "text": [
      "Estimateurs : moyenne =  14.99930926202917  écart-type =  1.116657911553038\n"
     ]
    }
   ],
   "source": [
    "# c) Estimation de la moyenne et de l'écart-type de la variable Xs\n",
    "moyS   = np.mean(Xs)          # la fonction mean() calcule la moyenne\n",
    "sigmaS = np.std(Xs,ddof  = 1) # la fonction std() calcule l'écart type\n",
    "print(\"Estimateurs : moyenne = \",moyS,\" écart-type = \",sigmaS)\n"
   ]
  },
  {
   "cell_type": "code",
   "execution_count": 111,
   "metadata": {},
   "outputs": [
    {
     "name": "stdout",
     "output_type": "stream",
     "text": [
      "valeur théorique de l'écart-type  1.118033988749895\n"
     ]
    }
   ],
   "source": [
    "# d) Comparaison avec la valeur théorique\n",
    "s1, s2 = 0.5, 1.\n",
    "sigmaStheo = (s1**2+s2**2)**(0.5) # racine carré de la somme des carrés (expression de type \"Pythagore\")\n",
    "print(\"valeur théorique de l'écart-type \",sigmaStheo)"
   ]
  },
  {
   "cell_type": "markdown",
   "metadata": {},
   "source": [
    "Conclusion : on constate que la valeur estimée est \"proche\" de la valeur théorique. \n",
    "\n",
    "*Remarque:* on pourrait davantage préciser la notion de \"proche\" en utilisant la notion de \"Z-score\" (cf chapitre sur les incertitudes), mais ce n'est pas l'objet de cet exercice."
   ]
  },
  {
   "cell_type": "markdown",
   "metadata": {},
   "source": [
    "## N2 n°5 Simulation de la différence de deux variables aléatoires uniformes (à chercher)\n",
    "\n",
    "On considère deux variables aléatoires de loi uniforme $X_1$ et $X_2$ telles que :\n",
    "\n",
    "- $X_1$ est uniformément répartie sur l'intervalle de valeurs $I_1=[x_1-\\Delta_1;x_1+\\Delta_1]$;\n",
    "- $X_2$ est uniformément répartie sur l'intervalle de valeurs $I_2=[x_2-\\Delta_2;x_2+\\Delta_2]$.\n",
    "\n",
    "Dans toute la suite, on prendra : $x_1=5$, $\\Delta_1=0,5$, $x_2=20$ et $\\Delta_2=1$.\n",
    "\n",
    "a) Ecrire le code python qui génère $N=10^6$ réalisations de ces variables aléatoires. On pourra utiliser la fonction ``uniform(a,b,nbSamples)`` du module numy.random.\n",
    "\n",
    "b) Représenter graphiquement les histogrammes des échantillons $X_1$, $X_2$ et $X_d=X_2-X_1$ sur un même graphe.\n",
    "\n",
    "c) Ecrire le code Python qui estimer la moyenne et l'écart-type $\\sigma_d$ de la variable $X_d$.\n",
    "\n",
    "d) Comparer l'estimation de l'écart-type $\\sigma_d$ à la valeur donnée par l'expression suivante :\n",
    "$$\\sigma_d=\\sqrt{\\sigma_1^2+\\sigma_2^2}$$\n",
    "dans laquelle les écarts-types $\\sigma_1$ et $\\sigma_2$ sont donnés par la **demi-largeur de l'intervalle de valeurs divisé par racine carrée de trois**:\n",
    "$$\\sigma_i=\\frac{\\Delta_i}{\\sqrt{3}}$$\n",
    "\n",
    "Ci-dessous une trame à compléter."
   ]
  },
  {
   "cell_type": "code",
   "execution_count": 22,
   "metadata": {},
   "outputs": [
    {
     "name": "stdout",
     "output_type": "stream",
     "text": [
      "15.00000306494849 0.645550327537503\n"
     ]
    },
    {
     "data": {
      "image/png": "[encoded data removed]",
      "text/plain": [
       "<Figure size 432x288 with 1 Axes>"
      ]
     },
     "metadata": {
      "needs_background": "light"
     },
     "output_type": "display_data"
    }
   ],
   "source": [
    "# importation des modules\n",
    "import numpy as np\n",
    "import numpy.random as rd\n",
    "import matplotlib.pyplot as plt\n",
    "# définition des constantes\n",
    "x1, x2 = 5., 20. #valeurs centrales des distributions\n",
    "delta1, delta2 = 0.5, 1. #demi largeurs des plages de valeurs acceptables\n",
    "# tirage des échantillons \n",
    "N = 10**7\n",
    "x1i = rd.uniform(x1 - delta1, x1 + delta1 ,N) # a,b,uniform\n",
    "x2i = rd.uniform(x2 - delta2, x2 + delta2 ,N) # a,b,uniform\n",
    "# calcul zi\n",
    "zi = x2i - x1i # la soustraction est faite N fois par numpy (boucle \"cachée\")\n",
    "#histogrammes\n",
    "plt.hist(x1i,bins = 'rice',color = 'b')\n",
    "plt.hist(x2i,bins = 'rice',color = 'g')\n",
    "plt.hist(zi,bins = 'rice', color='r')\n",
    "plt.xlim([0,25])\n",
    "plt.title(\"histogrammes\")\n",
    "# calcul moyenne et écarttype\n",
    "moyz = np.mean(zi) #moyenne des zi\n",
    "etypez = np.std(zi,ddof = 1) #estimateur sans écart-type des {zi}\n",
    "print(moyz, etypez) 0.6454972243679029"
   ]
  },
  {
   "cell_type": "code",
   "execution_count": 23,
   "metadata": {},
   "outputs": [
    {
     "name": "stdout",
     "output_type": "stream",
     "text": [
      "0.6454972243679029\n"
     ]
    }
   ],
   "source": [
    "# valeur théorique de l'écart type\n",
    "ux1 = delta1/3**0.5 # incertitude type pour la mesure x1\n",
    "ux2 = delta2/3**0.5 # incertitude type pour la mesure x2\n",
    "# composition des incertitudes-types \n",
    "uz = (ux1**2 + ux2**2)**0.5\n",
    "print(uz)"
   ]
  },
  {
   "cell_type": "code",
   "execution_count": null,
   "metadata": {},
   "outputs": [],
   "source": [
    "# Données numériques\n",
    "N = 10**5\n",
    "x1, delta1, x2, delta2 = 5, 0.5, 20, 1.\n",
    "\n",
    "# Génération des variables X1, X2 et Xd\n",
    "X1 = # à compléter\n",
    "X2 = # à compléter\n",
    "Xd = # à compléter\n",
    "\n",
    "# Tracé des histogrammes\n",
    "plt.hist(X1,bins='rice',color = 'b', label='X1')\n",
    "plt.hist(X2,bins='rice',color = 'g', label='X2')\n",
    "plt.hist(Xd,bins='rice',color = 'r', label='Xd')\n",
    "plt.show()\n",
    "\n",
    "# Estimation de la moyenne et de l'écart-type de Xd\n",
    "moyd =# à compléter\n",
    "sigmad = # à compléter\n",
    "print(\"Estimateurs : moyenne = \",moyd,\" écart-type = \",sigmad)\n",
    "\n",
    "# Comparaison avec la théorie\n",
    "sigma1, sigma2 = delta1/3**0.5, delta2/3**0.5\n",
    "sigmad_bis = # à compléter\n",
    "print(\"Expression de l'écart-type = \",sigmad_bis)"
   ]
  },
  {
   "cell_type": "markdown",
   "metadata": {},
   "source": [
    "## N2 n°6 Simulation de la somme deux variables aléatoires uniformes (à chercher)\n",
    "\n",
    "Reprendre l'exercice O2 n°5 mais en calculant cette fois la grandeur somme $X_1+X_2$. Les mêmes constatations s'appliquent-elles?\n"
   ]
  },
  {
   "cell_type": "markdown",
   "metadata": {},
   "source": [
    "## N2 n°7 Simulation du quotient de deux variables aléatoires gaussiennes (à chercher)\n",
    "\n",
    "On considère deux variables aléatoires de loi normale $U$ et $I$ telles que :\n",
    "\n",
    "- $U$ possède une moyenne $\\overline{U}=1,2457 \\textrm{ V}$ et d'écart-type $\\sigma_U=1,2 \\,\\textrm{mV}$;\n",
    "- $I$ possède une moyenne $\\overline{I}=12,383  \\textrm{ mA}$ et d'écart-type $\\sigma_I=5,2 \\, \\mu \\textrm{A}$.\n",
    "\n",
    "a) Simuler à l'aide du module Numpy un grand nombre de réalisations de ces variables aléatoires.\n",
    "\n",
    "On considère la grandeur $$R=U/I$$.\n",
    "\n",
    "b) Tracer l'histogramme de la grandeur $R$ et déterminer les paramètres statistiques de cette distribution (moyenne $\\overline{R}$ et écart-type $\\sigma_R$).\n",
    "\n",
    "c) Comparer le résultat obtenu aux expressions théoriques:\n",
    "\n",
    "$$\\overline{R}=\\frac{\\overline{U}}{\\overline{I}}$$\n",
    "\n",
    "et\n",
    "\n",
    "$$\\frac{\\sigma_R}{\\overline{R}} = \\sqrt{\\left(\\frac{\\sigma_U}{\\overline{U}}\\right)^2 + \\left(\\frac{\\sigma_I}{\\overline{I}} \\right) ^2}  $$"
   ]
  },
  {
   "cell_type": "markdown",
   "metadata": {},
   "source": [
    "**Correction de N2 n°7**"
   ]
  },
  {
   "cell_type": "code",
   "execution_count": 162,
   "metadata": {},
   "outputs": [
    {
     "data": {
      "image/png": "[encoded data removed]",
      "text/plain": [
       "<Figure size 432x288 with 1 Axes>"
      ]
     },
     "metadata": {
      "needs_background": "light"
     },
     "output_type": "display_data"
    },
    {
     "name": "stdout",
     "output_type": "stream",
     "text": [
      "Estimateurs : \t moyenne =  100.59759394126196  écart-type =  0.10565441655114423\n",
      "Valeurs théoriques :\t moyenne =  100.5975934749253  écart-type =  0.10571438930348316\n"
     ]
    }
   ],
   "source": [
    "# import des modules\n",
    "import numpy as np\n",
    "import matplotlib.pyplot as plt\n",
    "\n",
    "# tirages aléatoires\n",
    "N = 10**6 # \"grand nombre\"\n",
    "U = np.random.normal(1.2457,    1.2e-3, N) # attention à la conversion mV en V\n",
    "I = np.random.normal(12.383e-3, 5.2e-6, N) # l'intensité électrique est convertie en ampère (A)\n",
    "\n",
    "# Grandeur R\n",
    "R = U/I\n",
    "\n",
    "# Histogramme\n",
    "plt.hist(R,bins='rice')\n",
    "plt.show()\n",
    "\n",
    "# Paramètres statistiques\n",
    "moyR, sigmaR = np.mean(R), np.std(R, ddof=1) # fonction mean (moyenne) et std (écart-type)\n",
    "print(\"Estimateurs : \\t moyenne = \",moyR, \" écart-type = \",sigmaR)\n",
    "\n",
    "# Valeurs théoriques\n",
    "# Pour les applications numériques on utilise des variables auxiliaires pour \"alléger\" les notations\n",
    "u, su, i, si = 1.2457, 1.2e-3, 12.383e-3, 5.2e-6\n",
    "moyTheo = u/i\n",
    "sigmaTheo = (u/i)*np.sqrt( (su/u)**2+(si/i)**2)\n",
    "print(\"Valeurs théoriques :\\t moyenne = \", moyTheo, \" écart-type = \", sigmaTheo)"
   ]
  },
  {
   "cell_type": "markdown",
   "metadata": {},
   "source": [
    "Conclusion: on constate un bon accord entre les données simulées et les valeurs théoriques."
   ]
  },
  {
   "cell_type": "markdown",
   "metadata": {},
   "source": [
    "## N2 n°8 Régression linéaire (1) : période d'un pendule en fonction de la longueur de fil (corrigé)\n",
    "\n",
    "Un étudiant souhaite modéliser la relation entre la longueur d'un pendule pesant et la période des oscillations de ce pendule (cf figure ci-desssous).\n",
    "\n",
    "Pour différentes valeurs de la longueur $\\ell$ de ce pendule, il mesure la période $T$ des oscillations.\n",
    "\n",
    "![penduleLongueur](img/penduleLongueur.png)\n",
    "\n",
    "\n",
    "$$ \n",
    "\\begin{array}{|c|c|c|c|c|c|c|}\n",
    "\\hline \\textrm{longueur } \\ell \\textrm{ (cm) } & 10,0& 15,0 & 31,25 & 47,5 & 63,8 & 80,0 \\\\\n",
    "\\hline \\textrm{période d'oscillation }T \\textrm{ (s) }& 0,632 & 0,782 & 1,119 & 1,377 & 1,603&1,791 \\\\\n",
    "\\hline\n",
    "\\end{array}\n",
    "$$\n",
    "\n",
    "Dans tout l'exercice, on prendra $g=9,81 \\textrm{ m.s} ^{-2}$ pour l'accélération de la pesanteur.\n",
    "\n",
    "**Questions**\n",
    "\n",
    "a) Tracer l'évolution de la période $T$ en fonction de la longueur $\\ell$ du pendule. Les points expérimentaux semblent-ils alignés?\n",
    "\n",
    "La relation théorique entre la période et l'allongement se déduit des relations suivantes:\n",
    "$$\\omega=\\sqrt{\\frac{g}{\\ell}}$$\n",
    "et $$T = \\frac{2\\pi}{\\omega}$$\n",
    "\n",
    "b) Justifier qu'il est pertinent de proposer le modèle de régression affine $Y=aX+b$ avec $Y=T^\\alpha$ et $X=\\ell$ sous la forme\n",
    "$$ T^\\alpha = a \\ell +b$$\n",
    "où l'exposant $\\alpha$ est un coefficient numérique que l'on déterminera.\n",
    "\n",
    "c) Déterminer par régression affine les valeurs numériques des paramètres $a$ et $b$ de ce modèle (on ne demande pas d'estimer les incertitudes ni de valider ce modèle).\n",
    "\n",
    "d) Représenter la droite de régression en superposition sur le jeu de données.\n",
    "\n",
    "e) Comparer la valeur obtenue pour la pente $a$ de la régression à la valeur théorique $a_\\textrm{théo}$ que l'on précisera.\n",
    "\n",
    "**Autre méthode pour estimer la pente de la régression**\n",
    "\n",
    "Une méthode alternative pour estimer la pente de la régression est de proposer un modèle de la forme $Y=aX$, c'est-à-dire purement \"linéaire\" (sans composante affine):\n",
    "\n",
    "- pour chaque couple de valeurs $(x_i,y_i)$, déterminer la valeur $a_i$ de la pente par $a_i=y_i/x_i$,\n",
    "- effectuer la moyenne de l'ensemble des pentes $\\{a_i\\}$ obtenues.\n",
    "\n",
    "f) Mettre en oeuvre cette méthode et comparer l'estimation de $a$ dans ce cas à celle obtenue avec la régression affine."
   ]
  },
  {
   "cell_type": "markdown",
   "metadata": {},
   "source": [
    "**Correction N2 n°8**"
   ]
  },
  {
   "cell_type": "code",
   "execution_count": 45,
   "metadata": {},
   "outputs": [
    {
     "data": {
      "image/png": "[encoded data removed]",
      "text/plain": [
       "<Figure size 432x288 with 1 Axes>"
      ]
     },
     "metadata": {
      "needs_background": "light"
     },
     "output_type": "display_data"
    }
   ],
   "source": [
    "## a) Tracé de l'évolution de la période en fonction de la longueur\n",
    "#import des modules\n",
    "import numpy as np\n",
    "import matplotlib.pyplot as plt\n",
    "\n",
    "# Données expérimentales\n",
    "l = np.array([0.10, 0.15, 0.3125,0.475, 0.638, 0.80])   # longueurs en mètres\n",
    "T = np.array([0.632,0.782, 1.119, 1.377, 1.603, 1.791]) # périodes en secondes\n",
    "\n",
    "# Evolution de la période en fonction de la longueur du pendule\n",
    "plt.plot(l,T**2,'+k',ms = 15,mew = 2)\n",
    "plt.xlim([0,1.0]),plt.ylim([0,4.]) # visualisation du zéro\n",
    "plt.xlabel('longueur (m)'), plt.ylabel('période au carré (s^2)')\n",
    "plt.grid()"
   ]
  },
  {
   "cell_type": "markdown",
   "metadata": {},
   "source": [
    "b) D'après les relations précédentes: $$T^2=\\frac{4\\pi^2}{g}\\ell$$\n",
    "qui est bien de la forme $Y=T^2 = aX$ avec $X=\\ell$ et la pente théorique qui vaut $$a_\\textrm{théo}=\\frac{4\\pi^2}{g}$$\n",
    "\n",
    "Le modèle affine est donc compatible avec la relation théorique à condition de choisir $\\alpha=2$.\n",
    "\n",
    "Le résultat de la régression affine doit nous fournir la valeur $b\\approx0$"
   ]
  },
  {
   "cell_type": "code",
   "execution_count": 49,
   "metadata": {},
   "outputs": [
    {
     "name": "stdout",
     "output_type": "stream",
     "text": [
      "Regression affine : pente a =  4.009545186914175  s²/m   b =  0.0018164816323252826  s²\n",
      "valeur théorique de la pente athéo =  4.024303527457434\n"
     ]
    },
    {
     "data": {
      "image/png": "[encoded data removed]",
      "text/plain": [
       "<Figure size 432x288 with 1 Axes>"
      ]
     },
     "metadata": {
      "needs_background": "light"
     },
     "output_type": "display_data"
    }
   ],
   "source": [
    "## c) Détermination des valeurs de a et b par régression affine\n",
    "X = l\n",
    "Y = T**2\n",
    "a, b = np.polyfit(X,Y,deg = 1) # on effectue la régression de Y = T^2 par la variable X = longueur\n",
    "print('Regression affine : pente a = ',a,' s²/m ',' b = ',b,' s²')\n",
    "\n",
    "## d) Visualisation de la droite de régression sur le jeu de données\n",
    "plt.plot(l,T**2,'+k',ms = 15,mew = 2)\n",
    "plt.xlim([0,1.0]) # visualisation du zéro\n",
    "plt.xlabel('longueur (m)'), plt.ylabel('période (s)') # Attention aux unités des paramètres a et b\n",
    "xi = np.array([0,1.])\n",
    "plt.plot(xi,a*xi+b,'-r') # affichage de la droite de régression\n",
    "plt.grid()\n",
    "\n",
    "## e) Comparaison avec la valeur théorique\n",
    "g = 9.81 # m/s²\n",
    "atheo = 4*np.pi**2/g\n",
    "print('valeur théorique de la pente athéo = ', atheo)"
   ]
  },
  {
   "cell_type": "markdown",
   "metadata": {},
   "source": [
    "## f) Autre estimation de la pente\n",
    "ai = T**2/l\n",
    "print(\"estimation de la pente a = \",np.mean(ai)) # moyenne des pentes estimées"
   ]
  },
  {
   "cell_type": "markdown",
   "metadata": {},
   "source": [
    "## N2 n°9 Régression linéaire (2) : traction d'un élastique (à chercher)\n",
    "\n",
    "\n",
    "Un étudiant souhaite **caractériser le comportement en traction** d'un élastique en caoutchouc.\n",
    "\n",
    "Pour cela, il met en oeuvre le dispositif expérimental suivant (cf figure ci-dessous) :\n",
    "\n",
    "- l'élastique à tester est accroché à une potence,\n",
    "- on fixe à son extrémité inférieure un masse $m$ de valeur variable,\n",
    "- pour plusieurs valeurs de la masse $m$, il mesure la longueur $\\ell$ de l'élastique à l'aide d'un mètre ruban.\n",
    "\n",
    "**Illustration du dispositif expérimental**\n",
    "\n",
    "![elastiquePotence](img/elastiquePotence4.png)\n",
    "\n",
    "**Instruments de mesure utilisé :**\n",
    "- Balance de cuisine (au gramme) ;\n",
    "- Mètre ruban (gradué en millimètre) \n",
    "\n",
    "**Tableau des mesures**\n",
    "$$ \n",
    "\\begin{array}{|c|c|c|c|c|c|c|c|}\n",
    "\\hline \\textrm{masse } m \\textrm{ (g) } & 0 & 200 & 300 & 400 & 500 & 600 & 700\\\\\n",
    "\\hline \\textrm{longueur }\\ell \\textrm{ (cm) }& 12,4 &12,9& 13,1&13,3& 13,6& 14,2&14,6 \\\\\n",
    "\\hline\n",
    "\\end{array}\n",
    "$$\n",
    "\n",
    "**Questions**\n",
    "\n",
    "On note $\\Delta \\ell$ l'**allongement** de l'élastique la grandeur définie par \n",
    "$$\\Delta \\ell = \\ell - \\ell_0$$\n",
    "où $\\ell_0$ est la longueur de l'élastique à vide, c'est-à-dire lorsque qu'il est soumis à une force nulle.\n",
    "\n",
    "a) Représentation des mesures : tracer l'évolution de l'allongement $\\Delta \\ell$ (en mètres) en fonction de la masse (en kilogrammes).\n",
    "\n",
    "b) Etablir l'équation de la droite de régression $\\Delta \\ell = f(m)$ et représenter la droite de régression sur le jeu de données.\n",
    "\n",
    "On suppose que la loi de Hooke s'applique, c'est-à-dire que la relation *force vs allongement* est linéaire, soit:\n",
    "$$F = k \\Delta \\ell$$\n",
    "\n",
    "c) En prenant $g=9,81 \\textrm{m.s}^{-2}$ déterminer la valeur de la raideur $k$ correspond à la loi de Hooke.\n",
    "\n",
    "**Remarques:**\n",
    "\n",
    "- l'étude des incertitudes n'est pas demandée dans cet exercice,\n",
    "- rien de permet d'affirmer que la loi de Hooke est valide dans ce cas de cet élastique (et d'ailleurs, il n'en est rien ! nous montrerons que les résultats de ces mesures permettent **d'invalider le modèle linéaire proposé**).\n",
    "\n",
    "Indications : pour répondre aux questions, on s'aidera de la trame pré-remplie ci-dessous."
   ]
  },
  {
   "cell_type": "code",
   "execution_count": null,
   "metadata": {},
   "outputs": [],
   "source": [
    "## Import des modules\n",
    "  # import de numpy (à compléter)\n",
    "  # import de pyplot (à compléter)\n",
    "\n",
    "## Saisie des données expérimentales\n",
    "m = np.array([0, 200, 300, 400, 500, 600, 700])           # masses appliquées (en g)\n",
    "u_m = 0.5/np.sqrt(3)                                      # incertitude-type sur les valeurs de m (en g)\n",
    "\n",
    "l0 = 12.4                                                 # longueur du ressort à vide (en cm)\n",
    "l = np.array([12.4,12.9, 13.1, 13.3, 13.6, 14.2, 14.6])   # longueur du ressort en charge (en cm)\n",
    "u_l = 0.05/np.sqrt(3)\n",
    "\n",
    "## a) Tracé des courbes\n",
    "dl = # allongements en mètres (à compléter)\n",
    "mkg = # masse en kg (à compléter)\n",
    "plt.plot(...) # à compléter\n",
    "plt.xlabel('masse appliquée (kg)')\n",
    "plt.ylabel('allongement (m)')\n",
    "plt.grid()\n",
    "\n",
    "## b) Régression linéaire\n",
    "a,b = # extraction des paramètres a et b de la régression linéaire (à compléter)\n",
    "print('la pente est a = ',a, ' ') # affichage de la pente avec l'unité correcte (à compléter)\n",
    "print(\"l'ordonnée à l'origine est n = \",b,' ') # affichage de l'ordonnée à l'origine (compléter l'unité)\n",
    "\n",
    "# Ajout de la droite de régression en rouge sur le jeu de données (à compléter)\n",
    "\n",
    "plt.show()"
   ]
  },
  {
   "cell_type": "markdown",
   "metadata": {},
   "source": [
    "c) Détermination de la raideur $k$ de la loi de Hooke $F=k\\Delta \\ell$ (avec l'unité correcte)\n"
   ]
  },
  {
   "cell_type": "markdown",
   "metadata": {},
   "source": [
    "**Correction de N2 n°9**"
   ]
  },
  {
   "cell_type": "code",
   "execution_count": 179,
   "metadata": {},
   "outputs": [
    {
     "name": "stdout",
     "output_type": "stream",
     "text": [
      "la pente est a =  0.03081967213114753  m/kg\n",
      "l'ordonnée à l'origine est  -0.0014590163934426186  m\n"
     ]
    },
    {
     "data": {
      "image/png": "[encoded data removed]",
      "text/plain": [
       "<Figure size 432x288 with 1 Axes>"
      ]
     },
     "metadata": {
      "needs_background": "light"
     },
     "output_type": "display_data"
    }
   ],
   "source": [
    "## Import des modules\n",
    "import numpy as np              # import de numpy\n",
    "import matplotlib.pyplot as plt # import de pyplot\n",
    "\n",
    "## Saisie des données expérimentales\n",
    "m = np.array([0, 200, 300, 400, 500, 600, 700])           # masses appliquées (en g)\n",
    "u_m = 0.5/np.sqrt(3)                                      # incertitude-type sur les valeurs de m (en g)\n",
    "\n",
    "l0 = 12.4                                                 # longueur du ressort à vide (en cm)\n",
    "l = np.array([12.4,12.9, 13.1, 13.3, 13.6, 14.2, 14.6])   # longueur du ressort en charge (en cm)\n",
    "u_l = 0.05/np.sqrt(3)\n",
    "\n",
    "## a) Tracé des courbes\n",
    "dl = (l-l0)*1e-2 # allongements en mètres (à compléter)\n",
    "mkg = m*1e-3 # masse en kg (à compléter)\n",
    "plt.plot(mkg,dl,'+k',ms = 15) # à compléter\n",
    "plt.xlabel('masse appliquée (kg)')\n",
    "plt.ylabel('allongement (m)')\n",
    "plt.grid()\n",
    "\n",
    "## b) Régression linéaire\n",
    "a,b = np.polyfit(mkg, dl, deg = 1) # extraction des paramètres a et b de la régression linéaire\n",
    "print('la pente est a = ',a, ' m/kg') # affichage de la pente avec l'unité correcte\n",
    "print(\"l'ordonnée à l'origine est b = \",b,' m') # affichage de l'ordonnée à l'origine avec l'unité correcte\n",
    "\n",
    "# Ajout de la droite de régression en rouge sur le jeu de données\n",
    "plt.plot(mkg, a*mkg + b, '-r') # on utilise les valeurs de masses X = mkg en abscisses pour tracer Y = aX+b\n",
    "# autre méthode pour tracer la droite de régression\n",
    "xi = np.array([0,0.7]) # valeurs extrêmes\n",
    "plt.plot(xi,a*xi+b,'-r') # on utilise deux points pour tracer la droite de régression\n",
    "plt.show()"
   ]
  },
  {
   "cell_type": "markdown",
   "metadata": {},
   "source": [
    "c) Détermination de la raideur $k$ (en newton par mètre : $\\textrm{N.m}^{-1}$) de la loi de Hooke\n",
    "$$F=k\\Delta \\ell$$\n",
    "\n",
    "La force $F$ est reliée à la masse par (poids d'un corps de masse $m$ dans le champ de pesanteur $g$) :\n",
    "$$F=mg$$\n",
    "\n",
    "Or, en utilisant la valeur de la pente $a$ obtenue par régression affine, on peut écrire,à condition de négliger l'ordonnée à l'origine $b$, que l'allongement et la masse sont des grandeurs proportionnelles :\n",
    "$$Y=a X \\quad \\textrm{  soit  } \\quad \\Delta \\ell = a \\times m$$\n",
    "\n",
    "On a donc $m = \\frac{1}{a} \\Delta \\ell$, en remplaçant dans l'expression de la force $F=mg$, il vient:\n",
    "$$F=\\frac{g}{a} \\Delta \\ell$$\n",
    "\n",
    "Donc, en identifiant avec la loi de Hooke:\n",
    "$$k = \\frac{g}{a}$$\n",
    "\n",
    "**Application numérique**"
   ]
  },
  {
   "cell_type": "code",
   "execution_count": 181,
   "metadata": {},
   "outputs": [
    {
     "name": "stdout",
     "output_type": "stream",
     "text": [
      "La raideur k de l'élastique est estimée à k =  318.30319148936184  N/m.\n"
     ]
    }
   ],
   "source": [
    "g = 9.81 # m/s2\n",
    "k = g/a\n",
    "print(\"La raideur k de l'élastique est estimée à k = \",k, ' N/m.')"
   ]
  },
  {
   "cell_type": "markdown",
   "metadata": {},
   "source": [
    "Remarque : au vu des données expérimentales, le modèle affine peut sembler discutable mais, sans **prendre en compte rigoureusement les incertitudes de mesure**, aucune conclusion ne peut être tirée."
   ]
  },
  {
   "cell_type": "markdown",
   "metadata": {},
   "source": [
    "## N2 n°10 Régression linéaire (3) : oscillations d'un système masse-ressort (à chercher)\n",
    "\n",
    "Un étudiant s'intéresse aux oscillations verticales d'un système masse ressort (cf figure). \n",
    "\n",
    "![masseRessort](img/masseRessort3.png)\n",
    "\n",
    "Pour cela, il effectue deux séries de mesures.\n",
    "\n",
    "Dans la première série de mesures, il varie la masse $m$ accrochée au ressort tout en mesurant l'allongement $\\Delta \\ell$ du ressort à l'équilibre.\n",
    "\n",
    "$$ \n",
    "\\begin{array}{|c|c|c|c|c|}\n",
    "\\hline \\textrm{masse } m \\textrm{ (g) } & 50 & 100 & 150 & 250 \\\\\n",
    "\\hline \\textrm{allongement à l'équilibre } \\Delta \\ell \\textrm{ (cm) }& 16 & 31 &  49 & 82\\\\\n",
    "\\hline\n",
    "\\end{array}\n",
    "$$\n",
    "\n",
    "Dans la seconde série de mesures, il détermine aussi précisément que possible la période $T$ des oscillations pour différentes valeurs de la masse $m$.\n",
    "\n",
    "\n",
    "$$ \n",
    "\\begin{array}{|c|c|c|c|c|}\n",
    "\\hline \\textrm{masse } m \\textrm{ (g) } & 50 & 100 & 150 & 250 \\\\\n",
    "\\hline \\textrm{période d'oscillation }T \\textrm{ (s) }& 0,812 & 1,15 & 1,41 & 1,82\\\\\n",
    "\\hline\n",
    "\\end{array}\n",
    "$$\n",
    "\n",
    "**Questions**\n",
    "\n",
    "a) Etablir, à l'aide de la première série de mesures, la valeur de la raideur $k$ du ressort que l'on supposera obéir à la loi de Hooke $$\n",
    "F=k\\Delta \\ell$$, la force appliquée sur le ressort étant donnée par le poids de la masse $m$ (on prendra $g=9,81\\textrm{ m.s}^{-2}$).\n",
    "\n",
    "b) A partir de la seconde série de mesures, proposer un modèle affine compatible avec la relation théorique entre la masse $m$ et la fréquence des $f$ des oscillations\n",
    "$$f=\\frac{1}{T}$$\n",
    "avec $$\\omega = 2\\pi f= \\sqrt{\\frac{k}{m}}$$\n",
    "\n",
    "On déterminera les paramètres $(a,b)$ de la régression affine et on comparera ces valeurs aux valeurs théoriques.\n",
    "\n",
    "Aucune étude d'incertitude ni de validation de modèle n'est demandé dans cette question."
   ]
  },
  {
   "cell_type": "code",
   "execution_count": 333,
   "metadata": {},
   "outputs": [],
   "source": [
    "## Données mesurées\n",
    "m = np.array([50,100,150,250])*1e-3    # masses en kg\n",
    "deltaL = np.array([16,31,49,82])*1e-2  # allongement en m\n",
    "T = np.array([0.812, 1.15, 1.41, 1.82])# périodes en s"
   ]
  },
  {
   "cell_type": "markdown",
   "metadata": {},
   "source": [
    "# Complément : description mathématique de la régression linéaire ordinaire\n",
    "\n",
    "Faire une régression linéaire revient à chercher le minimum d'une fonction.\n",
    "\n",
    "Soit une série de $N$ couples $(x_i,y_i)$ de valeurs numériques, la régression linéaire ordinaire consiste à trouver les deux valeurs des paramètres $(a,b)$ de la droite d'équation $y=ax+b$ qui **minimise les écarts verticaux** entre la droite modèle et les points de données (cf figure).\n",
    "\n",
    "![regressionPrincipe](img/regressionPrincipe.png)\n",
    "\n",
    "L'**écart vertical** $\\varepsilon_i$ entre le point numéro $i$ et la droite est la quantité (représentée en tirés verts sur le figure) telle que:\n",
    "$$\\varepsilon_i =y_i- (a x_i+b)$$\n",
    "\n",
    "On décide alors de **minimiser la somme des carrés de ces écarts**, c'est-à-dire la quantité notée $\\varepsilon_N(a,b)$ qui dépend des $N$ points de mesure et des deux variables $a$ et $b$ :\n",
    "$$\\varepsilon_N(a,b)=\\sum_{i=1}^{N}  \\varepsilon_i^2 = \\sum_{i=1}^{N}  \\left(y_i- (a x_i+b)\\right)^2 $$\n",
    "\n",
    "Comme la fonction $(a,b) \\mapsto \\varepsilon_N(a,b)$ est une fonction quadratique de deux variables, sa minimisation est aisée et se ramène au système linéaire de deux équations suivant:\n",
    "\n",
    "$$\\frac{\\partial \\varepsilon_N}{ \\partial a} = 0 \\quad \\Leftrightarrow a \\sum_i xi^2 + b \\sum_ix_i = \\sum_i x_iy_i$$\n",
    "$$\\frac{\\partial \\varepsilon_N}{ \\partial b} = 0 \\quad \\Leftrightarrow a \\sum_i xi + b \\sum_i1 = \\sum_iy_i \\textrm{   }$$\n",
    "\n",
    "Qui se résoud en \n",
    "$$a=\\frac{\\sum_i (x_i-\\overline{x})(y_i-\\overline{y})}{\\sum_i(x_i-\\overline{x})^2}$$\n",
    "et\n",
    "$$b=\\overline{b}-a\\overline{x}$$"
   ]
  }
 ],
 "metadata": {
  "kernelspec": {
   "display_name": "Python 3",
   "language": "python",
   "name": "python3"
  },
  "language_info": {
   "codemirror_mode": {
    "name": "ipython",
    "version": 3
   },
   "file_extension": ".py",
   "mimetype": "text/x-python",
   "name": "python",
   "nbconvert_exporter": "python",
   "pygments_lexer": "ipython3",
   "version": "3.7.6"
  }
 },
 "nbformat": 4,
 "nbformat_minor": 4
}
