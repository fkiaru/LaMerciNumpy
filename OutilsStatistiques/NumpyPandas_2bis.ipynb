{
 "cells": [
  {
   "cell_type": "markdown",
   "metadata": {},
   "source": [
    "<center><FONT size=\"6pt\" color=firebrick> Fichiers de données et tableurs </FONT></center>\n"
   ]
  },
  {
   "cell_type": "markdown",
   "metadata": {},
   "source": [
    "# Saisie des données en Python Numpy\n",
    "\n",
    "## Problématique\n",
    "\n",
    "*Numpy* permet de manipuler facilement des données numériques (calculer moyennes, écart-type, faire des régressions linéaires, etc...).\n",
    "\n",
    "Afin de pouvoir manipuler ces données, il faut au préalable les **charger dans la mémoire de l'ordinateur** . Pour cela deux possibilités.\n",
    "\n",
    "## Saisie directement dans un code Python\n",
    "1/ On peut tapper directement les valeurs dans un code Python à l'aide de la commande ``np.array()`` qui renvoie une variable au format *tableau Numpy*, donc directement utilisable. Exemple ci-dessous:"
   ]
  },
  {
   "cell_type": "code",
   "execution_count": 5,
   "metadata": {},
   "outputs": [],
   "source": [
    "import numpy as np # import du module numpy avec l'alias np\n",
    "## Saisie des données expérimentales \n",
    "xvalues = np.array([1.02, 2.23, 5.29, 11.23, 32.2, 48.7, 63.4]) # 7 valeurs numériques\n",
    "yvalues = np.array([3.43e-3, 7.61e-3, 18.4e-3, 37.8e-3 , 109.8e-3, 214.8e-3 ])"
   ]
  },
  {
   "cell_type": "markdown",
   "metadata": {},
   "source": [
    "Dans l'exemple ci-dessus, les données sont stockées dans les variables ``xvalues``  et ``yvalues`` et sont alors utilisables directement par Python.\n",
    "\n",
    "## Saisie des données avec un tableur\n",
    "\n",
    "2/ On peut prévilégier l'utilisation d'un logiciel davantage adapté à la saisie de données (par exemple un tableur). Dans ce cas les données vont être stockées dans un fichier sur le disque dur de l'ordinateur avant d'être récupérées par Python. Nous nous limiterons au cas d'un fichier au format *csv = comma separated values*.\n",
    "\n",
    "Ci-dessous le schéma qui illustre ces différentes étapes :"
   ]
  },
  {
   "cell_type": "markdown",
   "metadata": {},
   "source": [
    "![csvFilesDemo.png](img/csvFilesDemo.png)"
   ]
  },
  {
   "cell_type": "markdown",
   "metadata": {},
   "source": [
    "# Le format d'un fichier csv\n",
    "\n",
    "C'est un format dans lequel les données sont lisibles directement avec un éditeur de texte (ex: *bloc-note* sous Windows).\n",
    "\n",
    "Les données se présentes sous formes de **colonnes**.\n",
    "\n",
    "Les valeurs entre chaque colonnes sont généralement séparées par le caractère 'virgule' (*comma*, en anglais).\n",
    "\n",
    "Dans l'exemple ci-dessous, la première ligne (appelée *header*) contient les noms des **champs de l'entête** (\"Nom\", \"Prénom\", \"Age (ans)\",\"Taille (cm)\").\n",
    "\n",
    "![DR_SampleCSV_1](img/DR_SampleCSV_1.png)\n",
    "\n",
    "Notes :\n",
    "\n",
    "- la première ligne peut éventuellement être omise.\n",
    "- les valeurs peuvent être de **type** *numérique* (Age et Taille) ou *chaîne de caractères* (Nom et Prénom).\n",
    "\n"
   ]
  },
  {
   "cell_type": "markdown",
   "metadata": {},
   "source": [
    "![DR_SampleCSV_0](img/DR_SampleCSV_1.png)"
   ]
  },
  {
   "cell_type": "markdown",
   "metadata": {},
   "source": [
    "## Ouvrir un fichier csv avec Python\n",
    "\n",
    "On utilise pour cela la fonction *read_csv()* du module *pandas*."
   ]
  },
  {
   "cell_type": "code",
   "execution_count": 24,
   "metadata": {},
   "outputs": [],
   "source": [
    "import pandas as pd # importation du module pandas avec l'alias 'pd'"
   ]
  },
  {
   "cell_type": "markdown",
   "metadata": {},
   "source": [
    "La syntaxe de la cette fonction est la suivante\n",
    "\n",
    "```\n",
    "df = pd.read_csv(\"nomDuFichier.csv\", sep = \";\") # La première ligne sert d'en-tête.\n",
    "df = pd.read_csv(\"nomDuFichier.csv\", sep = \"\\t\", header = None) # Pas d'en-tête.\n",
    "\n",
    "``` "
   ]
  },
  {
   "cell_type": "markdown",
   "metadata": {},
   "source": [
    "### Exemple 1: cas où les données sont séparées par des virgules\n",
    "\n",
    "C'est l'option par défaut."
   ]
  },
  {
   "cell_type": "code",
   "execution_count": 69,
   "metadata": {},
   "outputs": [
    {
     "data": {
      "text/html": [
       "<div>\n",
       "<style scoped>\n",
       "    .dataframe tbody tr th:only-of-type {\n",
       "        vertical-align: middle;\n",
       "    }\n",
       "\n",
       "    .dataframe tbody tr th {\n",
       "        vertical-align: top;\n",
       "    }\n",
       "\n",
       "    .dataframe thead th {\n",
       "        text-align: right;\n",
       "    }\n",
       "</style>\n",
       "<table border=\"1\" class=\"dataframe\">\n",
       "  <thead>\n",
       "    <tr style=\"text-align: right;\">\n",
       "      <th></th>\n",
       "      <th>Nom</th>\n",
       "      <th>Prénom</th>\n",
       "      <th>Age (ans)</th>\n",
       "      <th>Taille (cm)</th>\n",
       "    </tr>\n",
       "  </thead>\n",
       "  <tbody>\n",
       "    <tr>\n",
       "      <th>0</th>\n",
       "      <td>Dupont</td>\n",
       "      <td>Mélissa</td>\n",
       "      <td>19</td>\n",
       "      <td>168</td>\n",
       "    </tr>\n",
       "    <tr>\n",
       "      <th>1</th>\n",
       "      <td>Lebollec</td>\n",
       "      <td>Stéphane</td>\n",
       "      <td>31</td>\n",
       "      <td>172</td>\n",
       "    </tr>\n",
       "    <tr>\n",
       "      <th>2</th>\n",
       "      <td>Bent</td>\n",
       "      <td>Aurore</td>\n",
       "      <td>28</td>\n",
       "      <td>164</td>\n",
       "    </tr>\n",
       "    <tr>\n",
       "      <th>3</th>\n",
       "      <td>Martin</td>\n",
       "      <td>Jules</td>\n",
       "      <td>24</td>\n",
       "      <td>175</td>\n",
       "    </tr>\n",
       "  </tbody>\n",
       "</table>\n",
       "</div>"
      ],
      "text/plain": [
       "        Nom    Prénom  Age (ans)  Taille (cm)\n",
       "0    Dupont   Mélissa         19          168\n",
       "1  Lebollec  Stéphane         31          172\n",
       "2      Bent    Aurore         28          164\n",
       "3    Martin     Jules         24          175"
      ]
     },
     "execution_count": 69,
     "metadata": {},
     "output_type": "execute_result"
    }
   ],
   "source": [
    "df1 = pd.read_csv(\"SampleCSV.csv\") # l'argument \"sep\" est par défaut des virgules.\n",
    "df1 # affiche les données sous forme de table."
   ]
  },
  {
   "cell_type": "markdown",
   "metadata": {},
   "source": [
    "### Exemple 2: cas où les données sont séparées par des tabulations\n",
    "\n",
    "Dans ce cas il faut renseigner l'argument ``sep`` en indiquant que le séparateur des colonnes est le caractère de tabulation qui s'écrit '\\t'."
   ]
  },
  {
   "cell_type": "code",
   "execution_count": 70,
   "metadata": {},
   "outputs": [
    {
     "data": {
      "text/html": [
       "<div>\n",
       "<style scoped>\n",
       "    .dataframe tbody tr th:only-of-type {\n",
       "        vertical-align: middle;\n",
       "    }\n",
       "\n",
       "    .dataframe tbody tr th {\n",
       "        vertical-align: top;\n",
       "    }\n",
       "\n",
       "    .dataframe thead th {\n",
       "        text-align: right;\n",
       "    }\n",
       "</style>\n",
       "<table border=\"1\" class=\"dataframe\">\n",
       "  <thead>\n",
       "    <tr style=\"text-align: right;\">\n",
       "      <th></th>\n",
       "      <th>Nom</th>\n",
       "      <th>Prénom</th>\n",
       "      <th>Age (ans)</th>\n",
       "      <th>Taille (cm)</th>\n",
       "    </tr>\n",
       "  </thead>\n",
       "  <tbody>\n",
       "    <tr>\n",
       "      <th>0</th>\n",
       "      <td>Dupont</td>\n",
       "      <td>Mélissa</td>\n",
       "      <td>19</td>\n",
       "      <td>168</td>\n",
       "    </tr>\n",
       "    <tr>\n",
       "      <th>1</th>\n",
       "      <td>Lebollec</td>\n",
       "      <td>Stéphane</td>\n",
       "      <td>31</td>\n",
       "      <td>172</td>\n",
       "    </tr>\n",
       "    <tr>\n",
       "      <th>2</th>\n",
       "      <td>Bent</td>\n",
       "      <td>Aurore</td>\n",
       "      <td>28</td>\n",
       "      <td>164</td>\n",
       "    </tr>\n",
       "    <tr>\n",
       "      <th>3</th>\n",
       "      <td>Martin</td>\n",
       "      <td>Jules</td>\n",
       "      <td>24</td>\n",
       "      <td>175</td>\n",
       "    </tr>\n",
       "  </tbody>\n",
       "</table>\n",
       "</div>"
      ],
      "text/plain": [
       "        Nom    Prénom  Age (ans)  Taille (cm)\n",
       "0    Dupont   Mélissa         19          168\n",
       "1  Lebollec  Stéphane         31          172\n",
       "2      Bent    Aurore         28          164\n",
       "3    Martin     Jules         24          175"
      ]
     },
     "execution_count": 70,
     "metadata": {},
     "output_type": "execute_result"
    }
   ],
   "source": [
    "df2 = pd.read_csv(\"SampleCSVTab.csv\",sep='\\t') # séparateur = tabulation\n",
    "df2"
   ]
  },
  {
   "cell_type": "markdown",
   "metadata": {},
   "source": [
    "Note : selon les cas les séparateurs peuvent être des caractères point virgule \";\".\n",
    "\n",
    "C'est pourquoi on recommande de toujours visualiser brièvement le contenu d'un fichier csv."
   ]
  },
  {
   "cell_type": "markdown",
   "metadata": {},
   "source": [
    "### Exemple 3: cas où le fichier csv ne possède pas d'entête\n",
    "\n",
    "Dans ce cas, il faut ajouter l'argument ``header= None`` afin de préciser que les données \"utiles\" débutent dès la première ligne.\n",
    "\n",
    "Considérons le fichier ci-dessous:\n",
    "![DR_SampleCSV_2](img/DR_SampleCSV_2.png)\n",
    "\n",
    "- l'entête n'est pas présente,\n",
    "- le séparateur est le caractère point virgule ';'.\n",
    "\n",
    "Voici la syntaxe pour charger en mémoire les données contenues dans ce fichier *csv*."
   ]
  },
  {
   "cell_type": "code",
   "execution_count": 71,
   "metadata": {},
   "outputs": [
    {
     "data": {
      "text/html": [
       "<div>\n",
       "<style scoped>\n",
       "    .dataframe tbody tr th:only-of-type {\n",
       "        vertical-align: middle;\n",
       "    }\n",
       "\n",
       "    .dataframe tbody tr th {\n",
       "        vertical-align: top;\n",
       "    }\n",
       "\n",
       "    .dataframe thead th {\n",
       "        text-align: right;\n",
       "    }\n",
       "</style>\n",
       "<table border=\"1\" class=\"dataframe\">\n",
       "  <thead>\n",
       "    <tr style=\"text-align: right;\">\n",
       "      <th></th>\n",
       "      <th>0</th>\n",
       "      <th>1</th>\n",
       "      <th>2</th>\n",
       "      <th>3</th>\n",
       "    </tr>\n",
       "  </thead>\n",
       "  <tbody>\n",
       "    <tr>\n",
       "      <th>0</th>\n",
       "      <td>Dupont</td>\n",
       "      <td>Mélissa</td>\n",
       "      <td>19</td>\n",
       "      <td>168</td>\n",
       "    </tr>\n",
       "    <tr>\n",
       "      <th>1</th>\n",
       "      <td>Lebollec</td>\n",
       "      <td>Stéphane</td>\n",
       "      <td>31</td>\n",
       "      <td>172</td>\n",
       "    </tr>\n",
       "    <tr>\n",
       "      <th>2</th>\n",
       "      <td>Bent</td>\n",
       "      <td>Aurore</td>\n",
       "      <td>28</td>\n",
       "      <td>164</td>\n",
       "    </tr>\n",
       "    <tr>\n",
       "      <th>3</th>\n",
       "      <td>Martin</td>\n",
       "      <td>Jules</td>\n",
       "      <td>24</td>\n",
       "      <td>175</td>\n",
       "    </tr>\n",
       "  </tbody>\n",
       "</table>\n",
       "</div>"
      ],
      "text/plain": [
       "          0         1   2    3\n",
       "0    Dupont   Mélissa  19  168\n",
       "1  Lebollec  Stéphane  31  172\n",
       "2      Bent    Aurore  28  164\n",
       "3    Martin     Jules  24  175"
      ]
     },
     "execution_count": 71,
     "metadata": {},
     "output_type": "execute_result"
    }
   ],
   "source": [
    "df3 = pd.read_csv(\"SampleCSVNoHeader.csv\", sep=';', header = None) # séparateur = tabulation\n",
    "df3"
   ]
  },
  {
   "cell_type": "markdown",
   "metadata": {},
   "source": [
    "Noter : 1) l'utilisation de **header = None** et 2) l'absence d'étiquettes pour les champs de colonnes."
   ]
  },
  {
   "cell_type": "markdown",
   "metadata": {},
   "source": [
    "# Travailler avec les données numériques d'un fichier csv\n",
    "\n",
    "La fonction ``pd.read_csv(\"NomDeFichier.csv\", sep='..', header = ...)`` renvoie un **objet** de type \"DataFrame\"."
   ]
  },
  {
   "cell_type": "code",
   "execution_count": 94,
   "metadata": {},
   "outputs": [
    {
     "name": "stdout",
     "output_type": "stream",
     "text": [
      "Type de l'objet data =   <class 'pandas.core.frame.DataFrame'>\n"
     ]
    },
    {
     "data": {
      "text/html": [
       "<div>\n",
       "<style scoped>\n",
       "    .dataframe tbody tr th:only-of-type {\n",
       "        vertical-align: middle;\n",
       "    }\n",
       "\n",
       "    .dataframe tbody tr th {\n",
       "        vertical-align: top;\n",
       "    }\n",
       "\n",
       "    .dataframe thead th {\n",
       "        text-align: right;\n",
       "    }\n",
       "</style>\n",
       "<table border=\"1\" class=\"dataframe\">\n",
       "  <thead>\n",
       "    <tr style=\"text-align: right;\">\n",
       "      <th></th>\n",
       "      <th>Nom</th>\n",
       "      <th>Prénom</th>\n",
       "      <th>Age (ans)</th>\n",
       "      <th>Taille (cm)</th>\n",
       "    </tr>\n",
       "  </thead>\n",
       "  <tbody>\n",
       "    <tr>\n",
       "      <th>0</th>\n",
       "      <td>Dupont</td>\n",
       "      <td>Mélissa</td>\n",
       "      <td>19</td>\n",
       "      <td>168</td>\n",
       "    </tr>\n",
       "    <tr>\n",
       "      <th>1</th>\n",
       "      <td>Lebollec</td>\n",
       "      <td>Stéphane</td>\n",
       "      <td>31</td>\n",
       "      <td>172</td>\n",
       "    </tr>\n",
       "    <tr>\n",
       "      <th>2</th>\n",
       "      <td>Bent</td>\n",
       "      <td>Aurore</td>\n",
       "      <td>28</td>\n",
       "      <td>164</td>\n",
       "    </tr>\n",
       "    <tr>\n",
       "      <th>3</th>\n",
       "      <td>Martin</td>\n",
       "      <td>Jules</td>\n",
       "      <td>24</td>\n",
       "      <td>175</td>\n",
       "    </tr>\n",
       "  </tbody>\n",
       "</table>\n",
       "</div>"
      ],
      "text/plain": [
       "        Nom    Prénom  Age (ans)  Taille (cm)\n",
       "0    Dupont   Mélissa         19          168\n",
       "1  Lebollec  Stéphane         31          172\n",
       "2      Bent    Aurore         28          164\n",
       "3    Martin     Jules         24          175"
      ]
     },
     "execution_count": 94,
     "metadata": {},
     "output_type": "execute_result"
    }
   ],
   "source": [
    "import pandas as pd\n",
    "df = pd.read_csv(\"SampleCSV.csv\", sep=',', header= 'infer') # paramètres par défaut\n",
    "print(\"Type de l'objet data =  \", type(df))\n",
    "df"
   ]
  },
  {
   "cell_type": "markdown",
   "metadata": {},
   "source": [
    "La méthode ``.info()`` de l'objet DataFrame donne des informations sur les données."
   ]
  },
  {
   "cell_type": "code",
   "execution_count": 95,
   "metadata": {},
   "outputs": [
    {
     "name": "stdout",
     "output_type": "stream",
     "text": [
      "<class 'pandas.core.frame.DataFrame'>\n",
      "RangeIndex: 4 entries, 0 to 3\n",
      "Data columns (total 4 columns):\n",
      " #   Column       Non-Null Count  Dtype \n",
      "---  ------       --------------  ----- \n",
      " 0   Nom          4 non-null      object\n",
      " 1   Prénom       4 non-null      object\n",
      " 2   Age (ans)    4 non-null      int64 \n",
      " 3   Taille (cm)  4 non-null      int64 \n",
      "dtypes: int64(2), object(2)\n",
      "memory usage: 256.0+ bytes\n"
     ]
    }
   ],
   "source": [
    "df.info()"
   ]
  },
  {
   "cell_type": "markdown",
   "metadata": {},
   "source": [
    "Le champ ``.values`` permet de récupérer les données du DataFrame sous la forme d'array numpy 2d."
   ]
  },
  {
   "cell_type": "code",
   "execution_count": 97,
   "metadata": {},
   "outputs": [
    {
     "name": "stdout",
     "output_type": "stream",
     "text": [
      "[['Dupont' 'Mélissa' 19 168]\n",
      " ['Lebollec' 'Stéphane' 31 172]\n",
      " ['Bent' 'Aurore' 28 164]\n",
      " ['Martin' 'Jules' 24 175]]\n"
     ]
    }
   ],
   "source": [
    "A = df.values\n",
    "print(A) # est une matrice "
   ]
  },
  {
   "cell_type": "markdown",
   "metadata": {},
   "source": [
    "La variable *A* désigne une matrice numpy."
   ]
  },
  {
   "cell_type": "code",
   "execution_count": 99,
   "metadata": {},
   "outputs": [
    {
     "data": {
      "text/plain": [
       "(4, 4)"
      ]
     },
     "execution_count": 99,
     "metadata": {},
     "output_type": "execute_result"
    }
   ],
   "source": [
    "A.shape # renvoie (nb lignes x nb colonnes) "
   ]
  },
  {
   "cell_type": "code",
   "execution_count": 100,
   "metadata": {},
   "outputs": [
    {
     "name": "stdout",
     "output_type": "stream",
     "text": [
      "['Dupont' 'Lebollec' 'Bent' 'Martin']\n"
     ]
    }
   ],
   "source": [
    "NOMS = A[:,0] # extraction de la 1ère colonne de la matrice => listes des NOMS\n",
    "print(NOMS)"
   ]
  },
  {
   "cell_type": "code",
   "execution_count": 103,
   "metadata": {},
   "outputs": [
    {
     "name": "stdout",
     "output_type": "stream",
     "text": [
      "ages \t=  [19 31 28 24]\n",
      "tailles\t=  [168 172 164 175]\n"
     ]
    }
   ],
   "source": [
    "ages = A[:,2] # extraction de la 3ème ligne, celle des ages en années\n",
    "tailles = A[:,3] # extraction de la 4ème ligne, celle des tailles en cm\n",
    "print(\"ages \\t= \",ages)\n",
    "print(\"tailles\\t= \",tailles)"
   ]
  },
  {
   "cell_type": "markdown",
   "metadata": {},
   "source": [
    "# Création pratique d'un fichier csv avec un tableur\n",
    "\n",
    "Quel que soit le tableur utilisé (LibreOffice.Calc, MicroSoft Excel, ou Google.spreadsheets, la démarche est toujours la même:\n",
    "\n",
    "1. Saisir les données dans le tableur en laissant la **1ère ligne comme étiquette** des noms de données.\n",
    "\n",
    "\n",
    "2. Exporter la feuille de calcul au format 'csv' (pour *spreadsheets*, choisisser Fichier> Télécharger> csv)."
   ]
  },
  {
   "cell_type": "markdown",
   "metadata": {},
   "source": [
    "# Complément : création d'un objet de type DataFrame"
   ]
  },
  {
   "cell_type": "code",
   "execution_count": 89,
   "metadata": {},
   "outputs": [],
   "source": [
    "import numpy as np\n",
    "import pandas as pd\n",
    "ar = np.array([[1.1, 2, 3.3, 4], [2.7, 10, 5.4, 7], [5.3, 9, 1.5, 15]])\n",
    "df0 = pd.DataFrame(ar, index = ['a1', 'a2', 'a3'], columns = ['A', 'B', 'C', 'D'])"
   ]
  },
  {
   "cell_type": "code",
   "execution_count": 90,
   "metadata": {},
   "outputs": [
    {
     "data": {
      "text/plain": [
       "(3, 4)"
      ]
     },
     "execution_count": 90,
     "metadata": {},
     "output_type": "execute_result"
    }
   ],
   "source": [
    "df0.shape # donne la taille des dimensions du dataFrame"
   ]
  },
  {
   "cell_type": "code",
   "execution_count": 91,
   "metadata": {},
   "outputs": [
    {
     "data": {
      "text/html": [
       "<div>\n",
       "<style scoped>\n",
       "    .dataframe tbody tr th:only-of-type {\n",
       "        vertical-align: middle;\n",
       "    }\n",
       "\n",
       "    .dataframe tbody tr th {\n",
       "        vertical-align: top;\n",
       "    }\n",
       "\n",
       "    .dataframe thead th {\n",
       "        text-align: right;\n",
       "    }\n",
       "</style>\n",
       "<table border=\"1\" class=\"dataframe\">\n",
       "  <thead>\n",
       "    <tr style=\"text-align: right;\">\n",
       "      <th></th>\n",
       "      <th>A</th>\n",
       "      <th>B</th>\n",
       "      <th>C</th>\n",
       "      <th>D</th>\n",
       "    </tr>\n",
       "  </thead>\n",
       "  <tbody>\n",
       "    <tr>\n",
       "      <th>a1</th>\n",
       "      <td>1.1</td>\n",
       "      <td>2.0</td>\n",
       "      <td>3.3</td>\n",
       "      <td>4.0</td>\n",
       "    </tr>\n",
       "    <tr>\n",
       "      <th>a2</th>\n",
       "      <td>2.7</td>\n",
       "      <td>10.0</td>\n",
       "      <td>5.4</td>\n",
       "      <td>7.0</td>\n",
       "    </tr>\n",
       "  </tbody>\n",
       "</table>\n",
       "</div>"
      ],
      "text/plain": [
       "      A     B    C    D\n",
       "a1  1.1   2.0  3.3  4.0\n",
       "a2  2.7  10.0  5.4  7.0"
      ]
     },
     "execution_count": 91,
     "metadata": {},
     "output_type": "execute_result"
    }
   ],
   "source": [
    "N = 2\n",
    "df0.head(N) # n'affiche que les N premières lignes de données"
   ]
  },
  {
   "cell_type": "code",
   "execution_count": 93,
   "metadata": {},
   "outputs": [
    {
     "data": {
      "text/html": [
       "<div>\n",
       "<style scoped>\n",
       "    .dataframe tbody tr th:only-of-type {\n",
       "        vertical-align: middle;\n",
       "    }\n",
       "\n",
       "    .dataframe tbody tr th {\n",
       "        vertical-align: top;\n",
       "    }\n",
       "\n",
       "    .dataframe thead th {\n",
       "        text-align: right;\n",
       "    }\n",
       "</style>\n",
       "<table border=\"1\" class=\"dataframe\">\n",
       "  <thead>\n",
       "    <tr style=\"text-align: right;\">\n",
       "      <th></th>\n",
       "      <th>A</th>\n",
       "      <th>B</th>\n",
       "      <th>C</th>\n",
       "      <th>D</th>\n",
       "    </tr>\n",
       "  </thead>\n",
       "  <tbody>\n",
       "    <tr>\n",
       "      <th>a3</th>\n",
       "      <td>5.3</td>\n",
       "      <td>9.0</td>\n",
       "      <td>1.5</td>\n",
       "      <td>15.0</td>\n",
       "    </tr>\n",
       "  </tbody>\n",
       "</table>\n",
       "</div>"
      ],
      "text/plain": [
       "      A    B    C     D\n",
       "a3  5.3  9.0  1.5  15.0"
      ]
     },
     "execution_count": 93,
     "metadata": {},
     "output_type": "execute_result"
    }
   ],
   "source": [
    "N = 1\n",
    "df0.tail(N) # n'affiche que les N dernières lignes de données"
   ]
  }
 ],
 "metadata": {
  "kernelspec": {
   "display_name": "Python 3",
   "language": "python",
   "name": "python3"
  },
  "language_info": {
   "codemirror_mode": {
    "name": "ipython",
    "version": 3
   },
   "file_extension": ".py",
   "mimetype": "text/x-python",
   "name": "python",
   "nbconvert_exporter": "python",
   "pygments_lexer": "ipython3",
   "version": "3.7.6"
  }
 },
 "nbformat": 4,
 "nbformat_minor": 4
}
