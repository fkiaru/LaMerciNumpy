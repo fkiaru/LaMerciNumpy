{
 "cells": [
  {
   "cell_type": "markdown",
   "metadata": {},
   "source": [
    "# NumpyLaMerci\n",
    "\n",
    "\n",
    "Vous trouverez des cours, exercices résolus et exercices d'entrainement sur les principales compétences numériques en CPGE, 1ère année:\n",
    "\n",
    "- <a href=\"OutilsGraphiques/NumpyGraph_1.ipynb\" target=\"_blank\">Outils graphiques Numpy_1</a> (nuage de points, tracé de fonction, courbe paramétrée) [ <a href=\"OutilsGraphiques/NumpyGraph_1-PROF.ipynb\" target=\"_blank\">Correction</a>]\n",
    "\n",
    "\n",
    "- <a href=\"OutilsStatistiques/NumpyStatistiques_2.ipynb\" target=\"_blank\">Outils statistiques Numpy_2</a> (simulation de variables aléatoires, tracé d'histogramme, régression linéaire) [ <a href=\"OutilsStatistiques/NumpyStatistiques_2_PROF.ipynb\" target=\"_blank\">Correction</a>]\n",
    "\n",
    "\n",
    "- <a href=\"OutilsStatistiques/NumpyIncertitudes_3.ipynb\" target=\"_blank\">Estimation des incertitudes Numpy_3</a> (type A = répétabilité, estimation de type B, composition) [ <a href=\"OutilsStatistiques/NumpyIncertitudes_3-PROF.ipynb\" target=\"_blank\">Correction</a>]\n",
    "\n",
    "\n",
    "- <a href=\"OutilsAlgebriques/NumpyEquations_4.ipynb\" target=\"_blank\">Résolution approchée des équations algébriques Numpy_4</a> (méthode dichotomique) [ <a href=\"OutilsAlgebriques/NumpyEquations_4-PROF.ipynb\" target=\"_blank\">Correction</a>]\n",
    "\n",
    "\n"
   ]
  },
  {
   "cell_type": "code",
   "execution_count": null,
   "metadata": {},
   "outputs": [],
   "source": []
  }
 ],
 "metadata": {
  "kernelspec": {
   "display_name": "Python 3",
   "language": "python",
   "name": "python3"
  },
  "language_info": {
   "codemirror_mode": {
    "name": "ipython",
    "version": 3
   },
   "file_extension": ".py",
   "mimetype": "text/x-python",
   "name": "python",
   "nbconvert_exporter": "python",
   "pygments_lexer": "ipython3",
   "version": "3.7.6"
  }
 },
 "nbformat": 4,
 "nbformat_minor": 4
}
