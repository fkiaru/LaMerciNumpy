{
 "cells": [
  {
   "cell_type": "markdown",
   "metadata": {},
   "source": [
    "# Barycentre d'un système de points matériels\n",
    "\n",
    "## Barycentre de deux points\n",
    "\n",
    "On définit le barycentre de deux points $A$ et $B$ du plan affectés des coefficients de pondération $a$ et $b$ (avec la somme $a + b$ non nulle) comme l'unique point $G$ vérifiant la relation vectorielle \n",
    "$$\\boxed{a\\, \\vec{GA} + b\\, \\vec{GB} =\\vec{0}}$$\n",
    "\n",
    "**Relation de Chasles**\n",
    "\n",
    "En utilisant la relation de Chasles, on peut écrire:\n",
    "\n",
    "$$a\\, \\vec{GA} + b\\,( \\vec{GA} + \\vec{AB}) =\\vec{0}$$\n",
    "\n",
    "soit\n",
    "$$(a+b)\\, \\vec{GA} + b\\, \\vec{AB} =\\vec{0}$$\n",
    "ou encore\n",
    "\n",
    "$$(a+b) \\, \\vec{AG} = b \\, \\vec{AB}$$\n",
    "Comme  $a+b$ est non nul\n",
    "$$\\boxed{\\vec{AG} = \\frac{b}{a+b} \\vec{AB}}$$\n",
    "\n",
    "On note $G = \\mathrm{bar}\\{(A,a), (B,b) \\}$\n",
    "\n",
    "**Remarque**\n",
    "\n",
    "Le point $G$ appartient à la droite $(AB)$.\n",
    "\n",
    "**Exemple**\n",
    "\n",
    "Situer sur la figure ci-dessous le barycentre G des points $A(1,1)$ et $B(7,4)$ affectés des coefficients $a=5$ et $b=10$."
   ]
  },
  {
   "cell_type": "code",
   "execution_count": 4,
   "metadata": {},
   "outputs": [
    {
     "data": {
      "image/png": "[encoded data removed]",
      "text/plain": [
       "<Figure size 432x288 with 1 Axes>"
      ]
     },
     "metadata": {
      "needs_background": "light"
     },
     "output_type": "display_data"
    }
   ],
   "source": [
    "import matplotlib.pyplot as plt\n",
    "plt.plot([1,7],[1,4],'+k',ms=10,mew=2)\n",
    "plt.xlim([0,8])\n",
    "plt.ylim([0,5])\n",
    "plt.grid()"
   ]
  },
  {
   "cell_type": "markdown",
   "metadata": {},
   "source": [
    "## Barycentre d'un ensemble de points matériels\n",
    "\n",
    "Soit $\\{M_i\\}$ un ensemble de $N$ points du plan de coordonnées $x_i$, $y_i$.\n",
    "\n",
    "Soit $\\{\\alpha_i\\}$ un ensemble de $N$ scalaires (de somme non nulle).\n",
    "\n",
    "Le barycentre des points $\\{M_i\\}$ affectés des coefficients $\\{\\alpha_i\\}$ est l'unique point $G$ vérifiant la relation vetorielle:\n",
    "\n",
    "$$\\boxed{\\sum_{i = 1\\ldots N} \\alpha_i \\vec{GM_i} = \\vec{0}}$$"
   ]
  },
  {
   "cell_type": "markdown",
   "metadata": {},
   "source": [
    "## Coordonnées du barycentre\n",
    "\n",
    "**Principe:**\n",
    "\n",
    "Il suffit d'introduit l'origine $O$ du repère dans la relation de Chasles:\n",
    "\n",
    "**Cas du barycentre de deux points**\n",
    "\n",
    "$$a\\, \\vec{GA} + b\\, \\vec{GB} =\\vec{0}$$\n",
    "\n",
    "En introduisant l'origine $O$ du repère:\n",
    "\n",
    "$$a\\, (\\vec{GO}+\\vec{OA}) + b\\,(\\vec{GO}+\\vec{OB}) = \\vec{0}$$\n",
    "\n",
    "soit $$(a+b)\\, \\vec{GO} + a\\,\\vec{OA} + b\\,\\vec{OB}=\\vec{0}$$\n",
    "\n",
    "soit $$(a+b) \\, \\vec{OG} = a\\,\\vec{OA} + b\\,\\vec{OB}$$\n",
    "\n",
    "soit $$\\boxed{\\vec{OG} = \\frac{a\\,\\vec{OA} + b\\,\\vec{OB}}{a+b} }$$\n",
    "\n",
    "Les coordonnées $x_G$ et $y_G$ sont donc\n",
    " $$x_G = \\frac{a x_A+ b x_B}{a+b}$$\n",
    " et \n",
    " $$y_G = \\frac{a y_A+ b y_B}{a+b}$$\n",
    " \n",
    "**Cas du barycentre de $N$ points**\n",
    "\n",
    "$$\\sum_{i = 1\\ldots N} \\alpha_i\\vec{GM_i} = \\vec{0}$$\n",
    "\n",
    "Puis\n",
    "$$\\sum_{i = 1\\ldots N} \\alpha_i(\\vec{GO} + \\vec{OM_i})= \\vec{0}$$\n",
    "\n",
    "soit \n",
    "$$\\sum_{i = 1\\ldots N} \\alpha_i\\vec{GO} + \\sum_{i = 1\\ldots N} \\alpha_i \\vec{OM_i}= \\vec{0}$$\n",
    "En remarquant que le terme $\\vec{GO}$ peut être sortie de la somme:\n",
    "\n",
    "$$\\left(\\sum_{i = 1\\ldots N} \\alpha_i\\right) \\vec{GO} + \\sum_{i = 1\\ldots N} \\alpha_i \\vec{OM_i}= \\vec{0}$$\n",
    "\n",
    "en changeant le signe:\n",
    "$$\\left(\\sum_{i = 1\\ldots N} \\alpha_i\\right) \\vec{OG} = \\sum_{i = 1\\ldots N} \\alpha_i \\vec{OM_i}$$\n",
    "\n",
    "soit $$\\boxed{\\vec{OG} = \\frac{\\sum_{i = 1\\ldots N} \\alpha_i \\vec{OM_i}}{\\sum_{i = 1\\ldots N} \\alpha_i}} $$\n",
    "\n",
    "Les coordonnées $x_G$, $y_G$ du barycentre sont donc\n",
    "\n",
    "$$x_G = \\frac{\\alpha_1 x_1 + \\alpha_2 x_2 + \\ldots + \\alpha_N x_N}{\\sum_{i = 1\\ldots N} \\alpha_i}\n",
    "= \\frac{\\sum_{i = 1\\ldots N} \\alpha_i x_i}{\\sum_{i = 1\\ldots N} \\alpha_i}$$\n",
    "\n",
    "$$y_G = \\frac{\\sum_{i = 1\\ldots N} \\alpha_i y_i}{\\sum_{i = 1\\ldots N} \\alpha_i}$$"
   ]
  },
  {
   "cell_type": "markdown",
   "metadata": {},
   "source": [
    "## Application calcul des coordonnées du barycentre en Python\n",
    "\n",
    "Ecrire une fonction ``barycentre(xi,yi,ai)`` qui, à partir des deux listes Python de coordonnées *xi*, *yi* et de la liste Python des coefficients *ai* renvoie le *tuple* (xg,yg) des coordonnées du barycentre des points $M_i(x_i,y_i)$ affectés des coefficients $a_i$.\n",
    "\n",
    "On s'aidera de la trame ci-dessous en remarquant que l'algorithme nécessite de calculer la somme de trois listes de même nombre d'éléments.\n",
    "\n",
    "Remarque: les listes *xi*, *yi* et *ai* sont supposées contenir un même nombre de flottants et la somme des valeurs numériques de la liste *ai* est supposée être non nulle."
   ]
  },
  {
   "cell_type": "code",
   "execution_count": 1,
   "metadata": {},
   "outputs": [],
   "source": [
    "def barycentre(xi, yi, ai): # à compléter\n",
    "    ''' renvoie les coordoonées (xg,yg) du barycentre\n",
    "    des points de coordonnées (xi,yi) \n",
    "    affectés des coefficients  ai '''\n",
    "    N = ... # nombre de points\n",
    "    xg, yg, s = 0, 0, 0 # mise à zéro\n",
    "    for k in range(N):\n",
    "        xg = xg + ...\n",
    "        yg = yg + ...\n",
    "        s  = s  + ...\n",
    "    return xg/s, yg/s"
   ]
  },
  {
   "cell_type": "markdown",
   "metadata": {},
   "source": [
    "**Application**\n",
    "\n",
    "Déterminer les coordonnées des barycentres des points de coordonnées xj et yj:\n",
    "- d'une part lorsqu'ils sont affectés tous du même coefficient $1$ (on parle d'isobarycentre)\n",
    "- d'autre part lorsqu'ils sont affectés des coefficients *aj=thetaj*"
   ]
  },
  {
   "cell_type": "code",
   "execution_count": null,
   "metadata": {},
   "outputs": [],
   "source": [
    "## Validation (à compléter)\n",
    "import numpy as np\n",
    "Nb = 10\n",
    "thetaj = np.array([k/Nb*360 for k in range(Nb)]) # angles en degrés\n",
    "xj =  np.cos(thetaj*np.pi/180) # conversion en radians\n",
    "yj =  np.sin(thetaj*np.pi/180) # conversion en radians\n",
    "aj1 = [1 for k in range(Nb)] # coefficients tous égaux\n",
    "\n",
    "xg1,yg1 = ...# premier barycentre\n",
    "xg2,yg2 = ...# second barycentre\n",
    "\n",
    "plt.plot(xj,yj,'+k',ms=10,mew=2) # affichage des points\n",
    "plt.plot(xg1,yg1,'*r',ms=10)     # affichage du 1er barycentre\n",
    "plt.plot(xg2,yg2,'ob',ms=10)     # affichage du second barycentre\n",
    "plt.grid()\n",
    "plt.axis('equal')"
   ]
  },
  {
   "cell_type": "code",
   "execution_count": 23,
   "metadata": {},
   "outputs": [],
   "source": [
    "## Remarque : méthode alternative utilisant la fonction sum() \n",
    "##            et la syntaxe de Numpy\n",
    "def bar(xi,yi,ai):\n",
    "    s = np.sum(ai) \n",
    "    xg = np.sum(ai*xi)/s\n",
    "    yg = np.sum(ai*yi)/s\n",
    "    return xg,yg"
   ]
  }
 ],
 "metadata": {
  "kernelspec": {
   "display_name": "Python 3",
   "language": "python",
   "name": "python3"
  },
  "language_info": {
   "codemirror_mode": {
    "name": "ipython",
    "version": 3
   },
   "file_extension": ".py",
   "mimetype": "text/x-python",
   "name": "python",
   "nbconvert_exporter": "python",
   "pygments_lexer": "ipython3",
   "version": "3.7.6"
  }
 },
 "nbformat": 4,
 "nbformat_minor": 4
}
